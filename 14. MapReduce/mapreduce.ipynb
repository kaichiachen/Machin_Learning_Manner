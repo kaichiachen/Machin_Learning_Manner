{
 "cells": [
  {
   "cell_type": "code",
   "execution_count": 1,
   "metadata": {},
   "outputs": [
    {
     "name": "stderr",
     "output_type": "stream",
     "text": [
      "/usr/lib/python3.5/importlib/_bootstrap.py:222: RuntimeWarning: numpy.dtype size changed, may indicate binary incompatibility. Expected 96, got 88\n",
      "  return f(*args, **kwds)\n",
      "/usr/lib/python3.5/importlib/_bootstrap.py:222: RuntimeWarning: numpy.dtype size changed, may indicate binary incompatibility. Expected 96, got 88\n",
      "  return f(*args, **kwds)\n"
     ]
    }
   ],
   "source": [
    "import numpy as np\n",
    "import pandas as pd\n",
    "import matplotlib\n",
    "import matplotlib.pyplot as plt\n",
    "from mpl_toolkits.mplot3d import Axes3D\n",
    "%matplotlib inline"
   ]
  },
  {
   "cell_type": "markdown",
   "metadata": {},
   "source": [
    "# MapReduce\n",
    "当遇到大量的数据需要处理的时候，MapReduce就能派上用场了，其中Hadoop是MapReduce最有名的开源软件。MapReduce是一个能在多机器上共同协作执行计算任务的框架，他能将任务切分成子任务给不同机器(node)运算，在各个node上的代码称为mapper，这个任务分配的阶段也就是map。各个node运算完需要汇整，也就是reduce。  \n",
    "以下列举mapreduce的特色\n",
    "- master node控制mapreduce的任务\n",
    "- mapreduce由map(分配任务)和reduce(融合结果)组成\n",
    "- mapper和reducer之间不会直接互相沟通\n",
    "- 每个计算任务都会备份\n",
    "- 数据在mapper和reducer传递都是以key/value形式\n",
    "\n",
    "\n",
    "### 优缺点\n",
    "\n",
    "优点：在短时间内能处理大量信息  \n",
    "缺点：算法需自己写、需要对系统有认识\n",
    "\n",
    "\n",
    "接下来我们用代码介绍MapReduce，我们先从mapper开始，计算平均数以及方差"
   ]
  },
  {
   "cell_type": "code",
   "execution_count": 12,
   "metadata": {},
   "outputs": [
    {
     "name": "stdout",
     "output_type": "stream",
     "text": [
      "100\t0.509570\t0.344439\r\n",
      "mapper report: still alive\r\n"
     ]
    }
   ],
   "source": [
    "! cat ./datasets/input.txt | python mapper.py\n",
    "# len of input, mean of input, variance of input"
   ]
  },
  {
   "cell_type": "markdown",
   "metadata": {},
   "source": [
    "然后是reducer"
   ]
  },
  {
   "cell_type": "code",
   "execution_count": 13,
   "metadata": {},
   "outputs": [
    {
     "name": "stdout",
     "output_type": "stream",
     "text": [
      "mapper report: still alive\n",
      "100\t0.509570\t0.344439\n",
      "reducer report: still alive\n"
     ]
    }
   ],
   "source": [
    "! cat ./datasets/input.txt | python mapper.py | python reducer.py"
   ]
  }
 ],
 "metadata": {
  "kernelspec": {
   "display_name": "Python 3",
   "language": "python",
   "name": "python3"
  },
  "language_info": {
   "codemirror_mode": {
    "name": "ipython",
    "version": 3
   },
   "file_extension": ".py",
   "mimetype": "text/x-python",
   "name": "python",
   "nbconvert_exporter": "python",
   "pygments_lexer": "ipython3",
   "version": "3.5.2"
  }
 },
 "nbformat": 4,
 "nbformat_minor": 2
}
