{
 "cells": [
  {
   "cell_type": "code",
   "execution_count": 1,
   "metadata": {},
   "outputs": [
    {
     "name": "stderr",
     "output_type": "stream",
     "text": [
      "/usr/lib/python3.5/importlib/_bootstrap.py:222: RuntimeWarning: numpy.dtype size changed, may indicate binary incompatibility. Expected 96, got 88\n",
      "  return f(*args, **kwds)\n",
      "/usr/lib/python3.5/importlib/_bootstrap.py:222: RuntimeWarning: numpy.dtype size changed, may indicate binary incompatibility. Expected 96, got 88\n",
      "  return f(*args, **kwds)\n"
     ]
    }
   ],
   "source": [
    "import numpy as np\n",
    "import pandas as pd\n",
    "import matplotlib\n",
    "import matplotlib.pyplot as plt\n",
    "from mpl_toolkits.mplot3d import Axes3D\n",
    "%matplotlib inline"
   ]
  },
  {
   "cell_type": "markdown",
   "metadata": {},
   "source": [
    "# PCA(Principle Component Analysis)\n",
    "PCA是一种数据降为的算法，通常是为了可视化数据，由于人眼只能看到三维的数据，透过PCA能把三维以上的数据可视化。此外，透过PCA也能使得数据更好使用、降低所需计算资源、移除噪声。\n",
    "\n",
    "PCA的目的是在尽可能少的丢失信息的情况下进行降维，最终目的是希望降到特征间彼此独立。以可视化的角度来说，其基于投影进行降维，我们希望投影后数据能尽可能的分开，故需要选择特征方差大的向量(一个基)进行投影，保留方差小的向量，方差为0代表特征彼此独立。 \n",
    "我们设原始数据矩阵$X$对应的协方差矩阵为$C$，而$P$是一组基按行组成的矩阵，设$Y=PX$，则$Y$为$X$对$P$做基变换后的数据。设$Y$的协方差矩阵为$D$，我们推导一下$D$与$C$的关系： \n",
    "$$\n",
    "D=YY^T=(PX)(PX)^T=PXX^TP^T=P(XX^T)P^T=PCP^T\n",
    "$$\n",
    "我们希望D是个对角矩阵，即只有中间有值，其他特征之间都是独立关系。  \n",
    "首先计算出数据协方差矩阵的特征值以及特征向量,计算协方差的公式如下\n",
    "$$\n",
    "Conv(X,Y)=E((X-u)(Y-v)),E(X)=u,E(Y)=v\n",
    "$$\n",
    "\n",
    "求出特征值与特征向量后，按照特征值由大到小对特征向量进行排序，取前面k组特征向量组成矩阵P。Y=PX即为PCA降维后的数据。\n",
    "\n",
    "### 优缺点\n",
    "\n",
    "优点：降低数据的复杂度、找出重要的特征  \n",
    "缺点：可能会丢失重要的信息\n",
    "\n",
    "\n",
    "接下来我们用代码介绍PCA"
   ]
  },
  {
   "cell_type": "code",
   "execution_count": 19,
   "metadata": {},
   "outputs": [
    {
     "name": "stdout",
     "output_type": "stream",
     "text": [
      "[[1.05198368 1.1246314 ]\n",
      " [1.1246314  2.21166499]]\n",
      "[0.36651371 2.89713496]\n",
      "[2.89713496]\n"
     ]
    },
    {
     "data": {
      "text/plain": [
       "((1000, 1), (1000, 2))"
      ]
     },
     "execution_count": 19,
     "metadata": {},
     "output_type": "execute_result"
    }
   ],
   "source": [
    "def loadDataSet(fileName, delim='\\t'):\n",
    "    fr = open(fileName)\n",
    "    stringArr = [line.strip().split(delim) for line in fr.readlines()]\n",
    "    datArr = [list(map(float,line)) for line in stringArr]\n",
    "    return np.mat(datArr)\n",
    "\n",
    "def pca(dataMat, topNfeat=9999999):\n",
    "    meanVals = np.mean(dataMat, axis=0)\n",
    "    meanRemoved = dataMat - meanVals #remove mean\n",
    "    covMat = np.cov(meanRemoved, rowvar=0) # shape of covMat is 2,2 since rowvar take each column as a variable\n",
    "    print(covMat)\n",
    "    eigVals,eigVects = np.linalg.eig(np.mat(covMat))\n",
    "    eigValInd = np.argsort(eigVals)            #sort, sort goes smallest to largest\n",
    "    print(eigVals[eigValInd])\n",
    "    eigValInd = eigValInd[:-(topNfeat+1):-1]  #cut off unwanted dimensions\n",
    "    print(eigVals[eigValInd])\n",
    "    redEigVects = eigVects[:,eigValInd]       #reorganize eig vects largest to smallest\n",
    "    lowDDataMat = meanRemoved * redEigVects#transform data into new dimensions\n",
    "    reconMat = (lowDDataMat * redEigVects.T) + meanVals\n",
    "    return lowDDataMat, reconMat\n",
    "\n",
    "dataMat=loadDataSet('./datasets/testSet.txt')\n",
    "lowDMat, reconMat=pca(dataMat,1)\n",
    "np.shape(lowDMat),np.shape(reconMat)"
   ]
  },
  {
   "cell_type": "code",
   "execution_count": 8,
   "metadata": {},
   "outputs": [
    {
     "data": {
      "text/plain": [
       "<matplotlib.collections.PathCollection at 0x7fdca6d179b0>"
      ]
     },
     "execution_count": 8,
     "metadata": {},
     "output_type": "execute_result"
    },
    {
     "data": {
      "image/png": "[encoded data removed]",
      "text/plain": [
       "<Figure size 432x288 with 1 Axes>"
      ]
     },
     "metadata": {},
     "output_type": "display_data"
    }
   ],
   "source": [
    "fig=plt.figure()\n",
    "ax=fig.add_subplot(111)\n",
    "ax.scatter(dataMat[:,0].flatten().A[0], dataMat[:,1].flatten().A[0],marker='^',s=90)\n",
    "ax.scatter(reconMat[:,0].flatten().A[0], reconMat[:,1].flatten().A[0],marker='o',s=90,c='red')"
   ]
  },
  {
   "cell_type": "markdown",
   "metadata": {},
   "source": [
    "接下来，我们利用PCA来为半导体制程数据进行降维，半导体数据每一笔有590个特征"
   ]
  },
  {
   "cell_type": "code",
   "execution_count": 22,
   "metadata": {},
   "outputs": [
    {
     "data": {
      "text/plain": [
       "array([ 5.34151979e+07+0.00000000e+00j,  2.17466719e+07+0.00000000e+00j,\n",
       "        8.24837662e+06+0.00000000e+00j,  2.07388086e+06+0.00000000e+00j,\n",
       "        1.31540439e+06+0.00000000e+00j,  4.67693557e+05+0.00000000e+00j,\n",
       "        2.90863555e+05+0.00000000e+00j,  2.83668601e+05+0.00000000e+00j,\n",
       "        2.37155830e+05+0.00000000e+00j,  2.08513836e+05+0.00000000e+00j,\n",
       "        1.96098849e+05+0.00000000e+00j,  1.86856549e+05+0.00000000e+00j,\n",
       "        1.52422354e+05+0.00000000e+00j,  1.13215032e+05+0.00000000e+00j,\n",
       "        1.08493848e+05+0.00000000e+00j,  1.02849533e+05+0.00000000e+00j,\n",
       "        1.00166164e+05+0.00000000e+00j,  8.33473762e+04+0.00000000e+00j,\n",
       "        8.15850591e+04+0.00000000e+00j,  7.76560524e+04+0.00000000e+00j,\n",
       "        6.66060410e+04+0.00000000e+00j,  6.52620058e+04+0.00000000e+00j,\n",
       "        5.96776503e+04+0.00000000e+00j,  5.16269933e+04+0.00000000e+00j,\n",
       "        5.03324580e+04+0.00000000e+00j,  4.54661746e+04+0.00000000e+00j,\n",
       "        4.41914029e+04+0.00000000e+00j,  4.15532551e+04+0.00000000e+00j,\n",
       "        3.55294040e+04+0.00000000e+00j,  3.31436743e+04+0.00000000e+00j,\n",
       "        2.67385181e+04+0.00000000e+00j,  1.47123429e+04+0.00000000e+00j,\n",
       "        1.44089194e+04+0.00000000e+00j,  1.09321187e+04+0.00000000e+00j,\n",
       "        1.04841308e+04+0.00000000e+00j,  9.48876548e+03+0.00000000e+00j,\n",
       "        8.34665462e+03+0.00000000e+00j,  7.22765535e+03+0.00000000e+00j,\n",
       "        5.34196392e+03+0.00000000e+00j,  4.95614671e+03+0.00000000e+00j,\n",
       "        4.23060022e+03+0.00000000e+00j,  4.10673182e+03+0.00000000e+00j,\n",
       "        3.41199406e+03+0.00000000e+00j,  3.24193522e+03+0.00000000e+00j,\n",
       "        2.74523635e+03+0.00000000e+00j,  2.35027999e+03+0.00000000e+00j,\n",
       "        2.16835314e+03+0.00000000e+00j,  1.86414157e+03+0.00000000e+00j,\n",
       "        1.76741826e+03+0.00000000e+00j,  1.70492093e+03+0.00000000e+00j,\n",
       "        1.66199683e+03+0.00000000e+00j,  1.53948465e+03+0.00000000e+00j,\n",
       "        1.33096008e+03+0.00000000e+00j,  1.25591691e+03+0.00000000e+00j,\n",
       "        1.15509389e+03+0.00000000e+00j,  1.12410108e+03+0.00000000e+00j,\n",
       "        1.03213798e+03+0.00000000e+00j,  1.00972093e+03+0.00000000e+00j,\n",
       "        9.50542179e+02+0.00000000e+00j,  9.09791361e+02+0.00000000e+00j,\n",
       "        8.32001551e+02+0.00000000e+00j,  8.08898242e+02+0.00000000e+00j,\n",
       "        7.37343627e+02+0.00000000e+00j,  6.87596830e+02+0.00000000e+00j,\n",
       "        5.64452104e+02+0.00000000e+00j,  5.51812250e+02+0.00000000e+00j,\n",
       "        5.37209115e+02+0.00000000e+00j,  4.93029995e+02+0.00000000e+00j,\n",
       "        4.13720573e+02+0.00000000e+00j,  3.90222119e+02+0.00000000e+00j,\n",
       "        3.37288784e+02+0.00000000e+00j,  3.27558605e+02+0.00000000e+00j,\n",
       "        3.08869553e+02+0.00000000e+00j,  2.46285839e+02+0.00000000e+00j,\n",
       "        2.28893093e+02+0.00000000e+00j,  1.96447852e+02+0.00000000e+00j,\n",
       "        1.75559820e+02+0.00000000e+00j,  1.65795169e+02+0.00000000e+00j,\n",
       "        1.56428052e+02+0.00000000e+00j,  1.39671194e+02+0.00000000e+00j,\n",
       "        1.28662864e+02+0.00000000e+00j,  1.15624070e+02+0.00000000e+00j,\n",
       "        1.10318239e+02+0.00000000e+00j,  1.08663541e+02+0.00000000e+00j,\n",
       "        1.00695416e+02+0.00000000e+00j,  9.80687852e+01+0.00000000e+00j,\n",
       "        8.34968275e+01+0.00000000e+00j,  7.53025397e+01+0.00000000e+00j,\n",
       "        6.89260158e+01+0.00000000e+00j,  6.67786503e+01+0.00000000e+00j,\n",
       "        6.09412873e+01+0.00000000e+00j,  5.30974002e+01+0.00000000e+00j,\n",
       "        4.71797825e+01+0.00000000e+00j,  4.50701108e+01+0.00000000e+00j,\n",
       "        4.41349593e+01+0.00000000e+00j,  4.03313416e+01+0.00000000e+00j,\n",
       "        3.95741636e+01+0.00000000e+00j,  3.74000035e+01+0.00000000e+00j,\n",
       "        3.44211326e+01+0.00000000e+00j,  3.30031584e+01+0.00000000e+00j,\n",
       "        3.03317756e+01+0.00000000e+00j,  2.88994580e+01+0.00000000e+00j,\n",
       "        2.76478754e+01+0.00000000e+00j,  2.57708695e+01+0.00000000e+00j,\n",
       "        2.44506430e+01+0.00000000e+00j,  2.31640106e+01+0.00000000e+00j,\n",
       "        2.26956957e+01+0.00000000e+00j,  2.16925102e+01+0.00000000e+00j,\n",
       "        2.10114869e+01+0.00000000e+00j,  2.00984697e+01+0.00000000e+00j,\n",
       "        1.86489543e+01+0.00000000e+00j,  1.83733216e+01+0.00000000e+00j,\n",
       "        1.72517802e+01+0.00000000e+00j,  1.60481189e+01+0.00000000e+00j,\n",
       "        1.54406997e+01+0.00000000e+00j,  1.48356499e+01+0.00000000e+00j,\n",
       "        1.44273357e+01+0.00000000e+00j,  1.42318192e+01+0.00000000e+00j,\n",
       "        1.35592064e+01+0.00000000e+00j,  1.30696836e+01+0.00000000e+00j,\n",
       "        1.28193512e+01+0.00000000e+00j,  1.22093626e+01+0.00000000e+00j,\n",
       "        1.15228376e+01+0.00000000e+00j,  1.12141738e+01+0.00000000e+00j,\n",
       "        1.02585936e+01+0.00000000e+00j,  9.86906139e+00+0.00000000e+00j,\n",
       "        9.58794460e+00+0.00000000e+00j,  9.41686288e+00+0.00000000e+00j,\n",
       "        9.20276340e+00+0.00000000e+00j,  8.63791398e+00+0.00000000e+00j,\n",
       "        8.20622561e+00+0.00000000e+00j,  8.01020114e+00+0.00000000e+00j,\n",
       "        7.53391290e+00+0.00000000e+00j,  7.33168361e+00+0.00000000e+00j,\n",
       "        7.09960245e+00+0.00000000e+00j,  7.02149364e+00+0.00000000e+00j,\n",
       "        6.76557324e+00+0.00000000e+00j,  6.34504733e+00+0.00000000e+00j,\n",
       "        6.01919292e+00+0.00000000e+00j,  5.81680918e+00+0.00000000e+00j,\n",
       "        5.44653788e+00+0.00000000e+00j,  5.12338463e+00+0.00000000e+00j,\n",
       "        4.79593185e+00+0.00000000e+00j,  4.47851795e+00+0.00000000e+00j,\n",
       "        4.50369987e+00+0.00000000e+00j,  4.27479386e+00+0.00000000e+00j,\n",
       "        3.89124198e+00+0.00000000e+00j,  3.56466892e+00+0.00000000e+00j,\n",
       "        3.32248982e+00+0.00000000e+00j,  2.97665360e+00+0.00000000e+00j,\n",
       "        2.61425544e+00+0.00000000e+00j,  2.31802829e+00+0.00000000e+00j,\n",
       "        2.17171124e+00+0.00000000e+00j,  1.99239284e+00+0.00000000e+00j,\n",
       "        1.96616566e+00+0.00000000e+00j,  1.88149281e+00+0.00000000e+00j,\n",
       "        1.79228288e+00+0.00000000e+00j,  1.71378363e+00+0.00000000e+00j,\n",
       "        1.68028783e+00+0.00000000e+00j,  1.60686268e+00+0.00000000e+00j,\n",
       "        1.47158244e+00+0.00000000e+00j,  1.40656712e+00+0.00000000e+00j,\n",
       "        1.37808906e+00+0.00000000e+00j,  1.27967672e+00+0.00000000e+00j,\n",
       "        1.22803716e+00+0.00000000e+00j,  1.18531109e+00+0.00000000e+00j,\n",
       "        9.18222054e-01+0.00000000e+00j,  9.38857180e-01+0.00000000e+00j,\n",
       "        8.26265393e-01+0.00000000e+00j,  7.96585842e-01+0.00000000e+00j,\n",
       "        7.74597255e-01+0.00000000e+00j,  7.14002770e-01+0.00000000e+00j,\n",
       "        6.79457797e-01+0.00000000e+00j,  6.37928310e-01+0.00000000e+00j,\n",
       "        6.24646758e-01+0.00000000e+00j,  5.34605353e-01+0.00000000e+00j,\n",
       "        4.60658687e-01+0.00000000e+00j,  4.24265893e-01+0.00000000e+00j,\n",
       "        4.08634622e-01+0.00000000e+00j,  3.70321764e-01+0.00000000e+00j,\n",
       "        3.67016386e-01+0.00000000e+00j,  3.35858033e-01+0.00000000e+00j,\n",
       "        3.29780397e-01+0.00000000e+00j,  2.94348753e-01+0.00000000e+00j,\n",
       "        2.84154176e-01+0.00000000e+00j,  2.72703994e-01+0.00000000e+00j,\n",
       "        2.63265991e-01+0.00000000e+00j,  2.45227786e-01+0.00000000e+00j,\n",
       "        2.25805135e-01+0.00000000e+00j,  2.22331919e-01+0.00000000e+00j,\n",
       "        2.13514673e-01+0.00000000e+00j,  1.93961935e-01+0.00000000e+00j,\n",
       "        1.91647269e-01+0.00000000e+00j,  1.83668491e-01+0.00000000e+00j,\n",
       "        1.82518017e-01+0.00000000e+00j,  1.65310922e-01+0.00000000e+00j,\n",
       "        1.57447909e-01+0.00000000e+00j,  1.51263974e-01+0.00000000e+00j,\n",
       "        1.39427297e-01+0.00000000e+00j,  1.32638882e-01+0.00000000e+00j,\n",
       "        1.28000027e-01+0.00000000e+00j,  1.13559952e-01+0.00000000e+00j,\n",
       "        1.12576237e-01+0.00000000e+00j,  1.08809771e-01+0.00000000e+00j,\n",
       "        1.07136355e-01+0.00000000e+00j,  8.60839655e-02+0.00000000e+00j,\n",
       "        8.50467792e-02+0.00000000e+00j,  8.29254355e-02+0.00000000e+00j,\n",
       "        7.03701660e-02+0.00000000e+00j,  6.44475619e-02+0.00000000e+00j,\n",
       "        6.09866327e-02+0.00000000e+00j,  6.05709478e-02+0.00000000e+00j,\n",
       "        5.93963958e-02+0.00000000e+00j,  5.22163549e-02+0.00000000e+00j,\n",
       "        4.92729703e-02+0.00000000e+00j,  4.80022983e-02+0.00000000e+00j,\n",
       "        4.51487439e-02+0.00000000e+00j,  4.30180504e-02+0.00000000e+00j,\n",
       "        4.13368324e-02+0.00000000e+00j,  4.03281604e-02+0.00000000e+00j,\n",
       "        3.91576587e-02+0.00000000e+00j,  3.54198873e-02+0.00000000e+00j,\n",
       "        3.31199510e-02+0.00000000e+00j,  3.13547234e-02+0.00000000e+00j,\n",
       "        3.07226509e-02+0.00000000e+00j,  2.98354196e-02+0.00000000e+00j,\n",
       "        2.81949091e-02+0.00000000e+00j,  2.49158051e-02+0.00000000e+00j,\n",
       "        2.36374781e-02+0.00000000e+00j,  2.28360210e-02+0.00000000e+00j,\n",
       "        2.19602047e-02+0.00000000e+00j,  2.00166957e-02+0.00000000e+00j,\n",
       "        1.86597535e-02+0.00000000e+00j,  1.80415918e-02+0.00000000e+00j,\n",
       "        1.72261012e-02+0.00000000e+00j,  1.60703860e-02+0.00000000e+00j,\n",
       "        1.49566735e-02+0.00000000e+00j,  1.40165444e-02+0.00000000e+00j,\n",
       "        1.31296856e-02+0.00000000e+00j,  1.21358005e-02+0.00000000e+00j,\n",
       "        1.07166503e-02+0.00000000e+00j,  1.01045695e-02+0.00000000e+00j,\n",
       "        9.76055340e-03+0.00000000e+00j,  9.16740926e-03+0.00000000e+00j,\n",
       "        8.78108857e-03+0.00000000e+00j,  8.67465278e-03+0.00000000e+00j,\n",
       "        8.30918514e-03+0.00000000e+00j,  8.05104488e-03+0.00000000e+00j,\n",
       "        7.56152126e-03+0.00000000e+00j,  7.31508852e-03+0.00000000e+00j,\n",
       "        7.26347037e-03+0.00000000e+00j,  6.65728354e-03+0.00000000e+00j,\n",
       "        6.50769617e-03+0.00000000e+00j,  6.28009879e-03+0.00000000e+00j,\n",
       "        6.19160730e-03+0.00000000e+00j,  5.64130272e-03+0.00000000e+00j,\n",
       "        5.30195373e-03+0.00000000e+00j,  5.07453702e-03+0.00000000e+00j,\n",
       "        4.47372286e-03+0.00000000e+00j,  4.32543895e-03+0.00000000e+00j,\n",
       "        4.22006582e-03+0.00000000e+00j,  3.97065729e-03+0.00000000e+00j,\n",
       "        3.75292740e-03+0.00000000e+00j,  3.64861290e-03+0.00000000e+00j,\n",
       "        3.38915810e-03+0.00000000e+00j,  3.27965962e-03+0.00000000e+00j,\n",
       "        3.06633825e-03+0.00000000e+00j,  2.99206786e-03+0.00000000e+00j,\n",
       "        2.83586784e-03+0.00000000e+00j,  2.74987243e-03+0.00000000e+00j,\n",
       "        2.31066313e-03+0.00000000e+00j,  2.26782347e-03+0.00000000e+00j,\n",
       "        1.82206662e-03+0.00000000e+00j,  1.74955624e-03+0.00000000e+00j,\n",
       "        1.69305161e-03+0.00000000e+00j,  1.66624597e-03+0.00000000e+00j,\n",
       "        1.55346749e-03+0.00000000e+00j,  1.51278404e-03+0.00000000e+00j,\n",
       "        1.47296800e-03+0.00000000e+00j,  1.33617458e-03+0.00000000e+00j,\n",
       "        1.30517592e-03+0.00000000e+00j,  1.24056353e-03+0.00000000e+00j,\n",
       "        1.19823961e-03+0.00000000e+00j,  1.14381059e-03+0.00000000e+00j,\n",
       "        1.13027458e-03+0.00000000e+00j,  1.11081803e-03+0.00000000e+00j,\n",
       "        1.08359152e-03+0.00000000e+00j,  1.03517496e-03+0.00000000e+00j,\n",
       "        1.00164593e-03+0.00000000e+00j,  9.50024605e-04+0.00000000e+00j,\n",
       "        8.94981182e-04+0.00000000e+00j,  8.74363843e-04+0.00000000e+00j,\n",
       "        7.98497545e-04+0.00000000e+00j,  7.51612220e-04+0.00000000e+00j,\n",
       "        6.63964302e-04+0.00000000e+00j,  6.21097646e-04+0.00000000e+00j,\n",
       "        6.18098604e-04+0.00000000e+00j,  5.72611404e-04+0.00000000e+00j,\n",
       "        5.57509231e-04+0.00000000e+00j,  5.47002382e-04+0.00000000e+00j,\n",
       "        5.27195077e-04+0.00000000e+00j,  5.11487997e-04+0.00000000e+00j,\n",
       "        4.87787872e-04+0.00000000e+00j,  4.74249071e-04+0.00000000e+00j,\n",
       "        4.52367689e-04+0.00000000e+00j,  4.19119025e-04+0.00000000e+00j,\n",
       "        4.24431101e-04+0.00000000e+00j,  3.72489906e-04+0.00000000e+00j,\n",
       "        3.38125455e-04+0.00000000e+00j,  3.34002144e-04+0.00000000e+00j,\n",
       "        2.97951371e-04+0.00000000e+00j,  2.84845900e-04+0.00000000e+00j,\n",
       "        2.79038287e-04+0.00000000e+00j,  2.77054476e-04+0.00000000e+00j,\n",
       "        2.67962797e-04+0.00000000e+00j,  2.54815126e-04+0.00000000e+00j,\n",
       "        2.29230595e-04+0.00000000e+00j,  1.99245436e-04+0.00000000e+00j,\n",
       "        1.90381389e-04+0.00000000e+00j,  1.84497914e-04+0.00000000e+00j,\n",
       "        1.77415683e-04+0.00000000e+00j,  1.68160613e-04+0.00000000e+00j,\n",
       "        1.63992031e-04+0.00000000e+00j,  1.58025553e-04+0.00000000e+00j,\n",
       "        1.54226004e-04+0.00000000e+00j,  1.46097434e-04+0.00000000e+00j,\n",
       "        1.46890641e-04+0.00000000e+00j,  1.40079891e-04+0.00000000e+00j,\n",
       "        1.35736724e-04+0.00000000e+00j,  1.22704035e-04+0.00000000e+00j,\n",
       "        1.16752515e-04+0.00000000e+00j,  1.14080847e-04+0.00000000e+00j,\n",
       "        7.70526076e-05+0.00000000e+00j,  1.04252869e-04+0.00000000e+00j,\n",
       "        8.32654023e-05+0.00000000e+00j,  8.60212633e-05+0.00000000e+00j,\n",
       "        9.07003471e-05+0.00000000e+00j,  9.16166322e-05+0.00000000e+00j,\n",
       "        9.90265098e-05+0.00000000e+00j,  9.66039062e-05+0.00000000e+00j,\n",
       "        9.60766568e-05+0.00000000e+00j,  7.36470021e-05+0.00000000e+00j,\n",
       "        7.24998301e-05+0.00000000e+00j,  6.80209909e-05+0.00000000e+00j,\n",
       "        6.68682707e-05+0.00000000e+00j,  6.14500429e-05+0.00000000e+00j,\n",
       "        5.99843178e-05+0.00000000e+00j,  5.49918005e-05+0.00000000e+00j,\n",
       "        5.24646953e-05+0.00000000e+00j,  5.13403842e-05+0.00000000e+00j,\n",
       "        5.02336254e-05+0.00000000e+00j,  4.89288492e-05+0.00000000e+00j,\n",
       "        4.51104474e-05+0.00000000e+00j,  4.29823762e-05+0.00000000e+00j,\n",
       "        4.18869714e-05+0.00000000e+00j,  4.14341565e-05+0.00000000e+00j,\n",
       "        3.94822845e-05+0.00000000e+00j,  3.80307293e-05+0.00000000e+00j,\n",
       "        3.57776536e-05+0.00000000e+00j,  3.43901591e-05+0.00000000e+00j,\n",
       "        2.98089202e-05+0.00000000e+00j,  2.72388358e-05+0.00000000e+00j,\n",
       "        2.42608885e-05+0.00000000e+00j,  2.30962279e-05+0.00000000e+00j,\n",
       "        2.27807559e-05+0.00000000e+00j,  2.14440814e-05+0.00000000e+00j,\n",
       "        1.96208174e-05+0.00000000e+00j,  1.91217363e-05+0.00000000e+00j,\n",
       "        1.88276186e-05+0.00000000e+00j,  1.66549050e-05+0.00000000e+00j,\n",
       "        1.46846459e-05+0.00000000e+00j,  1.43753346e-05+0.00000000e+00j,\n",
       "        1.39779892e-05+0.00000000e+00j,  1.20295834e-05+0.00000000e+00j,\n",
       "        1.21760519e-05+0.00000000e+00j,  1.13426750e-05+0.00000000e+00j,\n",
       "        1.09258905e-05+0.00000000e+00j,  1.02782989e-05+0.00000000e+00j,\n",
       "        1.01021805e-05+0.00000000e+00j,  9.72678791e-06+0.00000000e+00j,\n",
       "        9.64538293e-06+0.00000000e+00j,  9.23630200e-06+0.00000000e+00j,\n",
       "        8.93991857e-06+0.00000000e+00j,  8.34247947e-06+0.00000000e+00j,\n",
       "        7.36188586e-06+0.00000000e+00j,  7.20354827e-06+0.00000000e+00j,\n",
       "        6.69282813e-06+0.00000000e+00j,  6.49477813e-06+0.00000000e+00j,\n",
       "        4.45482133e-06+0.00000000e+00j,  4.65422045e-06+0.00000000e+00j,\n",
       "        5.09342484e-06+0.00000000e+00j,  5.31392219e-06+0.00000000e+00j,\n",
       "        5.67034892e-06+0.00000000e+00j,  5.91044555e-06+0.00000000e+00j,\n",
       "        6.00244889e-06+0.00000000e+00j,  4.11265577e-06+0.00000000e+00j,\n",
       "        3.48065951e-06+0.00000000e+00j,  3.65202837e-06+0.00000000e+00j,\n",
       "        3.77558985e-06+0.00000000e+00j,  2.78847698e-06+0.00000000e+00j,\n",
       "        2.66299626e-06+0.00000000e+00j,  2.57492503e-06+0.00000000e+00j,\n",
       "        2.39210232e-06+0.00000000e+00j,  2.06298821e-06+0.00000000e+00j,\n",
       "        2.00824520e-06+0.00000000e+00j,  1.76373601e-06+0.00000000e+00j,\n",
       "        1.58273269e-06+0.00000000e+00j,  1.44003524e-06+0.00000000e+00j,\n",
       "        1.32211395e-06+0.00000000e+00j,  1.49813697e-06+0.00000000e+00j,\n",
       "        1.42489428e-06+0.00000000e+00j,  1.10002716e-06+0.00000000e+00j,\n",
       "        9.01008864e-07+0.00000000e+00j,  8.49881106e-07+0.00000000e+00j,\n",
       "        7.62521870e-07+0.00000000e+00j,  6.57641103e-07+0.00000000e+00j,\n",
       "        5.85636641e-07+0.00000000e+00j,  5.33937361e-07+0.00000000e+00j,\n",
       "        4.16077215e-07+0.00000000e+00j,  3.33765858e-07+0.00000000e+00j,\n",
       "        2.95575264e-07+0.00000000e+00j,  2.54744632e-07+0.00000000e+00j,\n",
       "        2.20144574e-07+0.00000000e+00j,  1.86314518e-07+0.00000000e+00j,\n",
       "        1.77370964e-07+0.00000000e+00j,  1.54794343e-07+0.00000000e+00j,\n",
       "        1.47331685e-07+0.00000000e+00j,  1.39738552e-07+0.00000000e+00j,\n",
       "        1.04110968e-07+0.00000000e+00j,  1.00786519e-07+0.00000000e+00j,\n",
       "        9.38635086e-08+0.00000000e+00j,  9.10853314e-08+0.00000000e+00j,\n",
       "        8.71546317e-08+0.00000000e+00j,  7.48338889e-08+0.00000000e+00j,\n",
       "        6.06817433e-08+0.00000000e+00j,  5.66479201e-08+0.00000000e+00j,\n",
       "        5.24576912e-08+0.00000000e+00j,  4.57020635e-08+0.00000000e+00j,\n",
       "        2.89942624e-08+0.00000000e+00j,  2.60449425e-08+0.00000000e+00j,\n",
       "        2.17618742e-08+0.00000000e+00j,  2.10987989e-08+0.00000000e+00j,\n",
       "        1.75542294e-08+0.00000000e+00j,  1.34637036e-08+0.00000000e+00j,\n",
       "        1.27167438e-08+0.00000000e+00j,  1.23258200e-08+0.00000000e+00j,\n",
       "        1.04987512e-08+0.00000000e+00j,  9.86367974e-09+0.00000000e+00j,\n",
       "        9.33428125e-09+0.00000000e+00j,  8.49422599e-09+0.00000000e+00j,\n",
       "        7.42190580e-09+0.00000000e+00j,  6.46870611e-09+0.00000000e+00j,\n",
       "        6.84633790e-09+0.00000000e+00j,  5.76455985e-09+0.00000000e+00j,\n",
       "        5.01137978e-09+0.00000000e+00j,  3.48686422e-09+0.00000000e+00j,\n",
       "        2.91267183e-09+0.00000000e+00j,  2.77880633e-09+0.00000000e+00j,\n",
       "        1.73093450e-09+0.00000000e+00j,  9.24975835e-10+0.00000000e+00j,\n",
       "        1.42391201e-09+0.00000000e+00j,  1.16454946e-09+0.00000000e+00j,\n",
       "        1.11815860e-09+0.00000000e+00j,  6.95077558e-10+0.00000000e+00j,\n",
       "        1.80003658e-10+0.00000000e+00j,  1.97062818e-10+0.00000000e+00j,\n",
       "        2.61934713e-10+0.00000000e+00j,  6.13245561e-10+0.00000000e+00j,\n",
       "        5.27642849e-10+0.00000000e+00j, -9.75045649e-16+1.20910148e-15j,\n",
       "       -9.75045649e-16-1.20910148e-15j,  1.27023122e-15+0.00000000e+00j,\n",
       "       -1.51967858e-17+0.00000000e+00j,  5.58911352e-19+0.00000000e+00j,\n",
       "        0.00000000e+00+0.00000000e+00j,  0.00000000e+00+0.00000000e+00j,\n",
       "        0.00000000e+00+0.00000000e+00j,  0.00000000e+00+0.00000000e+00j,\n",
       "        0.00000000e+00+0.00000000e+00j,  0.00000000e+00+0.00000000e+00j,\n",
       "        0.00000000e+00+0.00000000e+00j,  0.00000000e+00+0.00000000e+00j,\n",
       "        0.00000000e+00+0.00000000e+00j,  0.00000000e+00+0.00000000e+00j,\n",
       "        0.00000000e+00+0.00000000e+00j,  0.00000000e+00+0.00000000e+00j,\n",
       "        0.00000000e+00+0.00000000e+00j,  0.00000000e+00+0.00000000e+00j,\n",
       "        0.00000000e+00+0.00000000e+00j,  0.00000000e+00+0.00000000e+00j,\n",
       "        0.00000000e+00+0.00000000e+00j,  0.00000000e+00+0.00000000e+00j,\n",
       "        0.00000000e+00+0.00000000e+00j,  0.00000000e+00+0.00000000e+00j,\n",
       "        0.00000000e+00+0.00000000e+00j,  0.00000000e+00+0.00000000e+00j,\n",
       "        0.00000000e+00+0.00000000e+00j,  0.00000000e+00+0.00000000e+00j,\n",
       "        0.00000000e+00+0.00000000e+00j,  0.00000000e+00+0.00000000e+00j,\n",
       "        0.00000000e+00+0.00000000e+00j,  0.00000000e+00+0.00000000e+00j,\n",
       "        0.00000000e+00+0.00000000e+00j,  0.00000000e+00+0.00000000e+00j,\n",
       "        0.00000000e+00+0.00000000e+00j,  0.00000000e+00+0.00000000e+00j,\n",
       "        0.00000000e+00+0.00000000e+00j,  0.00000000e+00+0.00000000e+00j,\n",
       "        0.00000000e+00+0.00000000e+00j,  0.00000000e+00+0.00000000e+00j,\n",
       "        0.00000000e+00+0.00000000e+00j,  0.00000000e+00+0.00000000e+00j,\n",
       "        0.00000000e+00+0.00000000e+00j,  0.00000000e+00+0.00000000e+00j,\n",
       "        0.00000000e+00+0.00000000e+00j,  0.00000000e+00+0.00000000e+00j,\n",
       "        0.00000000e+00+0.00000000e+00j,  0.00000000e+00+0.00000000e+00j,\n",
       "        0.00000000e+00+0.00000000e+00j,  0.00000000e+00+0.00000000e+00j,\n",
       "        0.00000000e+00+0.00000000e+00j,  0.00000000e+00+0.00000000e+00j,\n",
       "        0.00000000e+00+0.00000000e+00j,  0.00000000e+00+0.00000000e+00j,\n",
       "        0.00000000e+00+0.00000000e+00j,  0.00000000e+00+0.00000000e+00j,\n",
       "        0.00000000e+00+0.00000000e+00j,  0.00000000e+00+0.00000000e+00j,\n",
       "        0.00000000e+00+0.00000000e+00j,  0.00000000e+00+0.00000000e+00j,\n",
       "        0.00000000e+00+0.00000000e+00j,  0.00000000e+00+0.00000000e+00j,\n",
       "        0.00000000e+00+0.00000000e+00j,  0.00000000e+00+0.00000000e+00j,\n",
       "        0.00000000e+00+0.00000000e+00j,  0.00000000e+00+0.00000000e+00j,\n",
       "        0.00000000e+00+0.00000000e+00j,  0.00000000e+00+0.00000000e+00j,\n",
       "        0.00000000e+00+0.00000000e+00j,  0.00000000e+00+0.00000000e+00j,\n",
       "        0.00000000e+00+0.00000000e+00j,  0.00000000e+00+0.00000000e+00j,\n",
       "        0.00000000e+00+0.00000000e+00j,  0.00000000e+00+0.00000000e+00j,\n",
       "        0.00000000e+00+0.00000000e+00j,  0.00000000e+00+0.00000000e+00j,\n",
       "        0.00000000e+00+0.00000000e+00j,  0.00000000e+00+0.00000000e+00j,\n",
       "        0.00000000e+00+0.00000000e+00j,  0.00000000e+00+0.00000000e+00j,\n",
       "        0.00000000e+00+0.00000000e+00j,  0.00000000e+00+0.00000000e+00j,\n",
       "        0.00000000e+00+0.00000000e+00j,  0.00000000e+00+0.00000000e+00j,\n",
       "        0.00000000e+00+0.00000000e+00j,  0.00000000e+00+0.00000000e+00j,\n",
       "        0.00000000e+00+0.00000000e+00j,  0.00000000e+00+0.00000000e+00j,\n",
       "        0.00000000e+00+0.00000000e+00j,  0.00000000e+00+0.00000000e+00j,\n",
       "        0.00000000e+00+0.00000000e+00j,  0.00000000e+00+0.00000000e+00j,\n",
       "        0.00000000e+00+0.00000000e+00j,  0.00000000e+00+0.00000000e+00j,\n",
       "        0.00000000e+00+0.00000000e+00j,  0.00000000e+00+0.00000000e+00j,\n",
       "        0.00000000e+00+0.00000000e+00j,  0.00000000e+00+0.00000000e+00j,\n",
       "        0.00000000e+00+0.00000000e+00j,  0.00000000e+00+0.00000000e+00j,\n",
       "        0.00000000e+00+0.00000000e+00j,  0.00000000e+00+0.00000000e+00j,\n",
       "        0.00000000e+00+0.00000000e+00j,  0.00000000e+00+0.00000000e+00j,\n",
       "        0.00000000e+00+0.00000000e+00j,  0.00000000e+00+0.00000000e+00j,\n",
       "        0.00000000e+00+0.00000000e+00j,  0.00000000e+00+0.00000000e+00j,\n",
       "        0.00000000e+00+0.00000000e+00j,  0.00000000e+00+0.00000000e+00j,\n",
       "        0.00000000e+00+0.00000000e+00j,  0.00000000e+00+0.00000000e+00j,\n",
       "        0.00000000e+00+0.00000000e+00j,  0.00000000e+00+0.00000000e+00j,\n",
       "        0.00000000e+00+0.00000000e+00j,  0.00000000e+00+0.00000000e+00j,\n",
       "        0.00000000e+00+0.00000000e+00j,  0.00000000e+00+0.00000000e+00j,\n",
       "        0.00000000e+00+0.00000000e+00j,  0.00000000e+00+0.00000000e+00j])"
      ]
     },
     "execution_count": 22,
     "metadata": {},
     "output_type": "execute_result"
    }
   ],
   "source": [
    "def replaceNanWithMean(): \n",
    "    datMat = loadDataSet('./datasets/secom.data', ' ')\n",
    "    numFeat = np.shape(datMat)[1]\n",
    "    for i in range(numFeat):\n",
    "        meanVal = np.mean(datMat[np.nonzero(~np.isnan(datMat[:,i].A))[0],i]) #values that are not NaN (a number)\n",
    "        datMat[np.nonzero(np.isnan(datMat[:,i].A))[0],i] = meanVal  #set NaN values to mean\n",
    "    return datMat\n",
    "dataMat=replaceNanWithMean()\n",
    "meanVals=np.mean(dataMat,axis=0)\n",
    "meanRemoved=dataMat-meanVals\n",
    "covMat=np.cov(meanRemoved,rowvar=0)\n",
    "eigVals,eigVects = np.linalg.eig(np.mat(covMat))\n",
    "eigVals"
   ]
  },
  {
   "cell_type": "markdown",
   "metadata": {},
   "source": [
    "可以看到有很多特征值为0，代表这些特征没有提供什么信息"
   ]
  },
  {
   "cell_type": "code",
   "execution_count": 24,
   "metadata": {},
   "outputs": [
    {
     "name": "stderr",
     "output_type": "stream",
     "text": [
      "/usr/local/lib/python3.5/dist-packages/numpy/core/numeric.py:501: ComplexWarning: Casting complex values to real discards the imaginary part\n",
      "  return array(a, dtype, copy=False, order=order)\n"
     ]
    },
    {
     "data": {
      "image/png": "[encoded data removed]",
      "text/plain": [
       "<Figure size 432x288 with 1 Axes>"
      ]
     },
     "metadata": {},
     "output_type": "display_data"
    }
   ],
   "source": [
    "eigValInd = np.argsort(eigVals)            #sort, sort goes smallest to largest\n",
    "eigValInd = eigValInd[::-1] # reverse\n",
    "sortedEigVals = eigVals[eigValInd]\n",
    "total = sum(sortedEigVals)\n",
    "varPercentage = sortedEigVals/total*100\n",
    "\n",
    "fig = plt.figure()\n",
    "ax = fig.add_subplot(111)\n",
    "ax.plot(range(1, 21), varPercentage[:20], marker='^')\n",
    "plt.xlabel('Principal Component Number')\n",
    "plt.ylabel('Percentage of Variance')\n",
    "plt.show()"
   ]
  },
  {
   "cell_type": "code",
   "execution_count": 36,
   "metadata": {},
   "outputs": [],
   "source": [
    "eigInd=eigValInd[:2]\n",
    "# print(eigValInd)\n",
    "redEigVects = eigVects[:,eigInd]       #reorganize eig vects largest to smallest\n",
    "lowDDataMat = meanRemoved * redEigVects#transform data into new dimensions\n",
    "reconMat = (lowDDataMat * redEigVects.T) + meanVals"
   ]
  },
  {
   "cell_type": "code",
   "execution_count": 41,
   "metadata": {},
   "outputs": [
    {
     "name": "stderr",
     "output_type": "stream",
     "text": [
      "/usr/local/lib/python3.5/dist-packages/numpy/core/numeric.py:553: ComplexWarning: Casting complex values to real discards the imaginary part\n",
      "  return array(a, dtype, copy=False, order=order, subok=True)\n"
     ]
    },
    {
     "data": {
      "image/png": "[encoded data removed]",
      "text/plain": [
       "<Figure size 432x288 with 1 Axes>"
      ]
     },
     "metadata": {},
     "output_type": "display_data"
    }
   ],
   "source": [
    "fig = plt.figure()\n",
    "ax = fig.add_subplot(111)\n",
    "ax.scatter(lowDDataMat[:,0].flatten().A[0], lowDDataMat[:,1].flatten().A[0], marker='^')\n",
    "plt.xlabel('Principal Component Number')\n",
    "plt.ylabel('Percentage of Variance')\n",
    "plt.show()"
   ]
  },
  {
   "cell_type": "code",
   "execution_count": 42,
   "metadata": {},
   "outputs": [
    {
     "data": {
      "text/plain": [
       "array([[5.34151979e+07+0.j, 6.16599774e-09+0.j],\n",
       "       [6.16599774e-09+0.j, 2.17466719e+07+0.j]])"
      ]
     },
     "execution_count": 42,
     "metadata": {},
     "output_type": "execute_result"
    }
   ],
   "source": [
    "meanVals = np.mean(lowDDataMat, axis=0)\n",
    "meanRemoved = lowDDataMat - meanVals #remove mean\n",
    "covMat = np.cov(meanRemoved, rowvar=0)\n",
    "covMat"
   ]
  },
  {
   "cell_type": "code",
   "execution_count": null,
   "metadata": {},
   "outputs": [],
   "source": []
  }
 ],
 "metadata": {
  "kernelspec": {
   "display_name": "Python 3",
   "language": "python",
   "name": "python3"
  },
  "language_info": {
   "codemirror_mode": {
    "name": "ipython",
    "version": 3
   },
   "file_extension": ".py",
   "mimetype": "text/x-python",
   "name": "python",
   "nbconvert_exporter": "python",
   "pygments_lexer": "ipython3",
   "version": "3.5.2"
  }
 },
 "nbformat": 4,
 "nbformat_minor": 2
}
