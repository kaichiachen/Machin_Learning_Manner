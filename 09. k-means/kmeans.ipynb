{
 "cells": [
  {
   "cell_type": "code",
   "execution_count": 1,
   "metadata": {},
   "outputs": [
    {
     "name": "stderr",
     "output_type": "stream",
     "text": [
      "/usr/lib/python3.5/importlib/_bootstrap.py:222: RuntimeWarning: numpy.dtype size changed, may indicate binary incompatibility. Expected 96, got 88\n",
      "  return f(*args, **kwds)\n",
      "/usr/lib/python3.5/importlib/_bootstrap.py:222: RuntimeWarning: numpy.dtype size changed, may indicate binary incompatibility. Expected 96, got 88\n",
      "  return f(*args, **kwds)\n"
     ]
    }
   ],
   "source": [
    "import numpy as np\n",
    "import pandas as pd\n",
    "import matplotlib\n",
    "import matplotlib.pyplot as plt\n",
    "from mpl_toolkits.mplot3d import Axes3D\n",
    "%matplotlib inline"
   ]
  },
  {
   "cell_type": "markdown",
   "metadata": {},
   "source": [
    "# K-means (k分群算法)\n",
    "K-means是一种无监督学习算法，给定数据集X，K-means能从中发现数据的规律并对数据分成K个群，群之间特征相似度较高。其算法非常好理解：\n",
    "\n",
    "1. 随机选出k个点，做为k个group的中心点\n",
    "2. 对每个数据点选择最近的那个中心点，作为该数据点的group\n",
    "3. 更新k个group的中心点，更新方式为计算该group所有数据点的平均值，作为新的group中心点\n",
    "4. 重复2-3步骤，知道收敛\n",
    "\n",
    "### 优缺点\n",
    "\n",
    "优点：容易实现  \n",
    "缺点：容易收敛在局部低点、数据量大时计算量大"
   ]
  },
  {
   "cell_type": "code",
   "execution_count": 2,
   "metadata": {},
   "outputs": [
    {
     "data": {
      "text/plain": [
       "(matrix([[-3.75679834,  3.04043601],\n",
       "         [-5.17042988,  0.38445038]]), 5.184632816681332)"
      ]
     },
     "execution_count": 2,
     "metadata": {},
     "output_type": "execute_result"
    }
   ],
   "source": [
    "def loadDataSet(fileName):      #general function to parse tab -delimited floats\n",
    "    dataMat = []                #assume last column is target value\n",
    "    fr = open(fileName)\n",
    "    for line in fr.readlines():\n",
    "        curLine = line.strip().split('\\t')\n",
    "        fltLine = list(map(float,curLine)) #map all elements to float()\n",
    "        dataMat.append(fltLine)\n",
    "    return dataMat\n",
    "def distEclud(vecA, vecB):\n",
    "    return np.sqrt(np.sum(np.power(vecA - vecB, 2))) #la.norm(vecA-vecB)\n",
    "\n",
    "def randCent(dataSet, k):\n",
    "    n = np.shape(dataSet)[1]\n",
    "    centroids = np.mat(np.zeros((k,n)))#create centroid mat\n",
    "    for j in range(n):#create random cluster centers, within bounds of each dimension\n",
    "        minJ = min(dataSet[:,j]) \n",
    "        rangeJ = float(np.max(dataSet[:,j]) - minJ)\n",
    "        centroids[:,j] = np.mat(minJ + rangeJ * np.random.rand(k,1))\n",
    "    return centroids\n",
    "\n",
    "myData=loadDataSet('./datasets/testSet.txt')\n",
    "dataMat=np.mat(myData)\n",
    "randCent(dataMat,2),distEclud(dataMat[0],dataMat[1])"
   ]
  },
  {
   "cell_type": "code",
   "execution_count": 53,
   "metadata": {},
   "outputs": [
    {
     "data": {
      "image/png": "[encoded data removed]",
      "text/plain": [
       "<Figure size 432x288 with 1 Axes>"
      ]
     },
     "metadata": {},
     "output_type": "display_data"
    }
   ],
   "source": [
    "def kMeans(dataSet, k, distMeas=distEclud, createCent=randCent):\n",
    "    m = np.shape(dataSet)[0]\n",
    "    clusterAssment = np.mat(np.zeros((m,2)))#create mat to assign data points \n",
    "                                      #to a centroid, also holds SE of each point\n",
    "    centroids = createCent(dataSet, k)\n",
    "    clusterChanged = True\n",
    "    while clusterChanged:\n",
    "        clusterChanged = False\n",
    "        for i in range(m):#for each data point assign it to the closest centroid\n",
    "            minDist = np.inf; minIndex = -1\n",
    "            for j in range(k):\n",
    "                distJI = distMeas(centroids[j,:],dataSet[i,:])\n",
    "                if distJI < minDist:\n",
    "                    minDist = distJI; minIndex = j\n",
    "            if clusterAssment[i,0] != minIndex: clusterChanged = True\n",
    "            clusterAssment[i,:] = minIndex,minDist**2\n",
    "#         print(centroids)\n",
    "        for cent in range(k):#recalculate centroids\n",
    "            ptsInClust = dataSet[np.nonzero(clusterAssment[:,0].A==cent)[0]]#get all the point in this cluster\n",
    "            centroids[cent,:] = np.mean(ptsInClust, axis=0) #assign centroid to mean \n",
    "    return centroids, clusterAssment\n",
    "\n",
    "centroids, clustAssign=kMeans(dataMat,3)\n",
    "fig = plt.figure()\n",
    "rect=[0.1,0.1,0.8,0.8]\n",
    "scatterMarkers=['s', 'o','^', '8']\n",
    "ax1=fig.add_subplot(111)\n",
    "for i in range(4):\n",
    "    ptsInCurrCluster = dataMat[np.nonzero(clustAssign[:,0].A==i)[0],:]\n",
    "    markerStyle = scatterMarkers[i % len(scatterMarkers)]\n",
    "    ax1.scatter(ptsInCurrCluster[:,0].flatten().A[0], ptsInCurrCluster[:,1].flatten().A[0], marker=markerStyle, s=90)\n",
    "ax1.scatter(centroids[:,0].flatten().A[0], centroids[:,1].flatten().A[0], marker='+', s=300)\n",
    "plt.show()"
   ]
  },
  {
   "cell_type": "markdown",
   "metadata": {},
   "source": [
    "k-means算法容易受到初始值音响，同个数据多跑几次会发现数据簇的中心点变来变去，甚至有时候中心点不准，这就是陷入了局部最优解，故有了优化k-means的算法  \n",
    "K-means的K个cluster是自定义的，这容易造成k设置不精准，也就是容易陷入局部最优解，接下来，我们透过postprocessing来自动设置k。此算法又称作Bisecting k-means，先从一个cluster开始，若分裂后能让数据点与cluster的中心点距离(SSE)更近，那就分裂，直到分裂到k个簇"
   ]
  },
  {
   "cell_type": "code",
   "execution_count": 8,
   "metadata": {},
   "outputs": [
    {
     "name": "stdout",
     "output_type": "stream",
     "text": [
      "[[-4.36000541 -2.30879879]\n",
      " [-4.59206094 -3.23102839]]\n",
      "[[-0.15301712  1.40566248]\n",
      " [-0.294186   -4.0043085 ]]\n",
      "[[-0.06738038  3.02244526]\n",
      " [-0.36852161 -2.96793856]]\n",
      "[[-0.00675605  3.22710297]\n",
      " [-0.45965615 -2.7782156 ]]\n",
      "sseSplit, and notSplit:  453.0334895807502 0.0\n",
      "the bestCentToSplit is:  0\n",
      "the len of bestClustAss is:  60\n",
      "[[ 4.54872795  1.59418022]\n",
      " [-4.16143264  3.84481052]]\n",
      "[[ 2.93386365  3.12782785]\n",
      " [-2.94737575  3.3263781 ]]\n",
      "sseSplit, and notSplit:  77.59224931775066 29.15724944412535\n",
      "[[ 0.18215257 -3.09354757]\n",
      " [-0.07712694 -4.00366717]]\n",
      "[[-0.43400906 -2.60222388]\n",
      " [-0.60498967 -3.775502  ]]\n",
      "[[-0.77411615 -2.33877908]\n",
      " [ 0.124341   -3.594312  ]]\n",
      "[[-0.99714875 -2.30782817]\n",
      " [ 0.34658275 -3.48379675]]\n",
      "[[-1.12616164 -2.30193564]\n",
      " [ 0.35496167 -3.36033556]]\n",
      "sseSplit, and notSplit:  12.753263136887313 423.8762401366249\n",
      "the bestCentToSplit is:  0\n",
      "the len of bestClustAss is:  40\n",
      "[[3.11977953 0.6132234 ]\n",
      " [1.41152816 3.95008079]]\n",
      "[[3.3570382  1.8464974 ]\n",
      " [2.79280547 3.554938  ]]\n",
      "[[3.1604785  1.93671333]\n",
      " [2.836743   3.6383055 ]]\n",
      "sseSplit, and notSplit:  26.928372264482334 67.2202000797829\n",
      "[[-1.79964265 -2.80027325]\n",
      " [-1.04937799 -2.51459401]]\n",
      "[[-1.61890625 -2.74135825]\n",
      " [-0.16984363 -2.78742994]]\n",
      "[[-1.42876814 -2.27809686]\n",
      " [ 0.06217338 -3.04751031]]\n",
      "[[-1.26405367 -2.209896  ]\n",
      " [ 0.19848727 -3.24320436]]\n",
      "[[-1.1836084 -2.2507069]\n",
      " [ 0.2642961 -3.3057243]]\n",
      "[[-1.12616164 -2.30193564]\n",
      " [ 0.35496167 -3.36033556]]\n",
      "sseSplit, and notSplit:  12.753263136887313 77.59224931775066\n",
      "[[-3.9457922   3.20551567]\n",
      " [-2.60696232  2.07803762]]\n",
      "[[-3.6478306  3.692232 ]\n",
      " [-2.2469209  2.9605242]]\n",
      "[[-3.788444    3.89484813]\n",
      " [-2.38666358  2.94739808]]\n",
      "[[-4.01218967  4.159849  ]\n",
      " [-2.49102693  2.96917629]]\n",
      "[[-4.095738    4.4204886 ]\n",
      " [-2.56458833  2.9616746 ]]\n",
      "sseSplit, and notSplit:  21.290859679422137 68.68654812621844\n",
      "the bestCentToSplit is:  2\n",
      "the len of bestClustAss is:  20\n"
     ]
    }
   ],
   "source": [
    "def biKmeans(dataSet, k, distMeas=distEclud):\n",
    "    m = np.shape(dataSet)[0]\n",
    "    clusterAssment = np.mat(np.zeros((m,2)))\n",
    "    centroid0 = np.mean(dataSet, axis=0).tolist()[0]\n",
    "    centList =[centroid0] #create a list with one centroid\n",
    "    for j in range(m):#calc initial Error\n",
    "        clusterAssment[j,1] = distMeas(np.mat(centroid0), dataSet[j,:])**2\n",
    "    while (len(centList) < k):\n",
    "        lowestSSE = np.inf\n",
    "        for i in range(len(centList)):\n",
    "            ptsInCurrCluster = dataSet[np.nonzero(clusterAssment[:,0].A==i)[0],:]#get the data points currently in cluster i\n",
    "            centroidMat, splitClustAss = kMeans(ptsInCurrCluster, 2, distMeas)\n",
    "            sseSplit = np.sum(splitClustAss[:,1])#compare the SSE to the currrent minimum\n",
    "            sseNotSplit = np.sum(clusterAssment[np.nonzero(clusterAssment[:,0].A!=i)[0],1])\n",
    "            print(\"sseSplit, and notSplit: \",sseSplit,sseNotSplit)\n",
    "            if (sseSplit + sseNotSplit) < lowestSSE:\n",
    "                bestCentToSplit = i\n",
    "                bestNewCents = centroidMat\n",
    "                bestClustAss = splitClustAss.copy()\n",
    "                lowestSSE = sseSplit + sseNotSplit\n",
    "        bestClustAss[np.nonzero(bestClustAss[:,0].A == 1)[0],0] = len(centList) #change 1 to 3,4, or whatever\n",
    "        bestClustAss[np.nonzero(bestClustAss[:,0].A == 0)[0],0] = bestCentToSplit\n",
    "        print('the bestCentToSplit is: ',bestCentToSplit)\n",
    "        print('the len of bestClustAss is: ', len(bestClustAss))\n",
    "        centList[bestCentToSplit] = bestNewCents[0,:].tolist()[0]#replace a centroid with two best centroids \n",
    "        centList.append(bestNewCents[1,:].tolist()[0])\n",
    "        clusterAssment[np.nonzero(clusterAssment[:,0].A == bestCentToSplit)[0],:]= bestClustAss#reassign new clusters, and SSE\n",
    "    return np.mat(centList), clusterAssment,lowestSSE\n",
    "\n",
    "myData=loadDataSet('./datasets/testSet2.txt')\n",
    "dataMat=np.mat(myData)\n",
    "centroids, clustAssign, SSE=biKmeans(dataMat,4)"
   ]
  },
  {
   "cell_type": "code",
   "execution_count": 9,
   "metadata": {},
   "outputs": [
    {
     "data": {
      "text/plain": [
       "matrix([[ 2.93386365,  3.12782785],\n",
       "        [-0.45965615, -2.7782156 ],\n",
       "        [-4.095738  ,  4.4204886 ],\n",
       "        [-2.56458833,  2.9616746 ]])"
      ]
     },
     "execution_count": 9,
     "metadata": {},
     "output_type": "execute_result"
    }
   ],
   "source": [
    "centroids"
   ]
  },
  {
   "cell_type": "code",
   "execution_count": 61,
   "metadata": {},
   "outputs": [
    {
     "name": "stdout",
     "output_type": "stream",
     "text": [
      "sseSplit, and notSplit:  453.0334895807502 0.0\n",
      "the bestCentToSplit is:  0\n",
      "the len of bestClustAss is:  60\n",
      "sseSplit, and notSplit:  77.59224931775066 29.15724944412535\n",
      "sseSplit, and notSplit:  12.753263136887313 423.8762401366249\n",
      "the bestCentToSplit is:  0\n",
      "the len of bestClustAss is:  40\n"
     ]
    },
    {
     "data": {
      "image/png": "[encoded data removed]",
      "text/plain": [
       "<Figure size 432x288 with 1 Axes>"
      ]
     },
     "metadata": {},
     "output_type": "display_data"
    }
   ],
   "source": [
    "myData=loadDataSet('./datasets/testSet2.txt')\n",
    "dataMat=np.mat(myData)\n",
    "centroids, clustAssign, SSE=biKmeans(dataMat,3)\n",
    "fig = plt.figure()\n",
    "rect=[0.1,0.1,0.8,0.8]\n",
    "scatterMarkers=['s', 'o','^', '8']\n",
    "ax1=fig.add_subplot(111)\n",
    "for i in range(10):\n",
    "    ptsInCurrCluster = dataMat[np.nonzero(clustAssign[:,0].A==i)[0],:]\n",
    "    markerStyle = scatterMarkers[i % len(scatterMarkers)]\n",
    "    ax1.scatter(ptsInCurrCluster[:,0].flatten().A[0], ptsInCurrCluster[:,1].flatten().A[0], marker=markerStyle, s=90)\n",
    "ax1.scatter(centroids[:,0].flatten().A[0], centroids[:,1].flatten().A[0], marker='+', s=300)\n",
    "plt.show()"
   ]
  },
  {
   "cell_type": "code",
   "execution_count": null,
   "metadata": {},
   "outputs": [],
   "source": []
  }
 ],
 "metadata": {
  "kernelspec": {
   "display_name": "Python 3",
   "language": "python",
   "name": "python3"
  },
  "language_info": {
   "codemirror_mode": {
    "name": "ipython",
    "version": 3
   },
   "file_extension": ".py",
   "mimetype": "text/x-python",
   "name": "python",
   "nbconvert_exporter": "python",
   "pygments_lexer": "ipython3",
   "version": "3.5.2"
  }
 },
 "nbformat": 4,
 "nbformat_minor": 2
}
