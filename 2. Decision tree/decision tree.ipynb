{
 "cells": [
  {
   "cell_type": "code",
   "execution_count": 1,
   "metadata": {},
   "outputs": [],
   "source": [
    "import numpy as np\n",
    "import pandas as pd\n",
    "import matplotlib\n",
    "import matplotlib.pyplot as plt\n",
    "from mpl_toolkits.mplot3d import Axes3D\n",
    "%matplotlib inline"
   ]
  },
  {
   "cell_type": "markdown",
   "metadata": {},
   "source": [
    "# Decision Tree (决策树)\n",
    "\n",
    "决策树与数据结构中的\"树\"相同,每个节点代表特征并基于此继续划分其他特征，直到此节点下的所有类都是同一类，如下图所示：\n",
    "![](./imgs/struct.png)\n",
    "\n",
    "经过训练后的决策树模型可以清楚的知道模型在预测时对各个特征的取舍，让人类能轻易理解。决策树与knn不同，他是需要经过训练的，其训练最大的问题时如何划分特征？选择哪个特征作为优先划分？\n",
    "\n",
    "我们有个判断好瓜与坏瓜的数据集，每个瓜有两个特征，分别为软硬以及大小，如下所示：\n",
    "\n",
    "| 编号 | 软硬 | 大小 | 标签 |\n",
    "| :--: | :--: | :--: | :--: |\n",
    "| 1 | 硬 | 大 | 好瓜 |\n",
    "| 2 | 软 | 大 | 坏瓜 |\n",
    "| 3 | 软 | 小 | 好瓜 |\n",
    "| 4 | 软 | 小 | 坏瓜 |\n",
    "| 5 | 硬 | 大 | 好瓜 |\n",
    "\n",
    "训练的时候，会根据数据的分布将数据一步一步的划分，简单来说，我们的目的是把原始的数据划分成两边的较相似的数据，例如老师收到一个成绩单，有100位同学的是否及格以及男女，老师想判断同学的学习优劣最简单的方法就是以及格位特征一刀切分成两边较相似的数据，而不是划分男女。然而现实的数据不像考试成绩这么直白，我们可以利用信息论的算法来测量切割前后的数据纯度，而切割前后提升的纯度我们称为信息增益(information gain)，信息增益最多的特征就是首先划分的特征。\n",
    "\n",
    "首先，我们先介绍熵(entrophy)的概念，熵来自热力学第二定律，熵越大代表混乱程度越高，举例来说，泡拿铁的时候，我们将牛奶倒进咖啡里，一开始白色的牛奶和黑色的咖啡分明，此时熵最低，但是没过一会儿，就变成咖啡色的拿铁，这时代表最高的混乱程度，也就是熵变高了。信息熵就是衡量一个分布的纯度的一个变量，可以理解为比较不可能发生的事情，当它发生了，会提供更多的信息，他的公式就是信息的期望值，首先信息的计算如下表示：\n",
    "$$log_2p(x_i)$$\n",
    "$p(x_i)$是选择这个class_i的概率值，而期望如下所示：\n",
    "$$-\\sum_{i=1}^{n}p(x_i))log_2p(x_i)$$\n",
    "\n",
    "\n",
    "\n",
    "\n",
    "### 优缺点\n",
    "\n",
    "优点：计算资源少、容易从数据提取关键点、对缺失数据不敏感  \n",
    "缺点：容易过拟合\n",
    "\n",
    "### 示例代码\n",
    "以判断好瓜与坏瓜为例"
   ]
  },
  {
   "cell_type": "markdown",
   "metadata": {},
   "source": [
    "第一个函数：产生数据集  \n",
    "第二个函数：计算数据集的信息熵"
   ]
  },
  {
   "cell_type": "code",
   "execution_count": 2,
   "metadata": {},
   "outputs": [],
   "source": [
    "def createDataSet():\n",
    "    dataSet = [[1, 1, 'good'],\n",
    "               [0, 1, 'bad'],\n",
    "               [0, 0, 'good'],\n",
    "               [0, 0, 'bad'],\n",
    "               [1, 1, 'good']]\n",
    "    labels = ['soft','thick']\n",
    "    \n",
    "    return dataSet, labels\n",
    "\n",
    "def calcShannonEnt(dataSet):\n",
    "    numEntries = len(dataSet)\n",
    "    labelCounts = {}\n",
    "    for featVec in dataSet: #the the number of unique elements and their occurance\n",
    "        currentLabel = featVec[-1]\n",
    "        labelCounts[currentLabel] = labelCounts.get(currentLabel,0)+1\n",
    "    shannonEnt = 0.0\n",
    "    for key in labelCounts:\n",
    "        prob = labelCounts[key]/numEntries\n",
    "        shannonEnt -= prob * np.log2(prob)\n",
    "    return shannonEnt"
   ]
  },
  {
   "cell_type": "code",
   "execution_count": 3,
   "metadata": {},
   "outputs": [
    {
     "data": {
      "text/plain": [
       "([[1, 1, 'good'],\n",
       "  [0, 1, 'bad'],\n",
       "  [0, 0, 'good'],\n",
       "  [0, 0, 'bad'],\n",
       "  [1, 1, 'good']],\n",
       " 0.9709505944546686)"
      ]
     },
     "execution_count": 3,
     "metadata": {},
     "output_type": "execute_result"
    }
   ],
   "source": [
    "myData, labels = createDataSet()\n",
    "myData, calcShannonEnt(myData)"
   ]
  },
  {
   "cell_type": "markdown",
   "metadata": {},
   "source": [
    "切分数据  \n",
    "dataSet：数据集  \n",
    "axis：要切分的特征所代表的index  \n",
    "value：根据特征的什么值来切分"
   ]
  },
  {
   "cell_type": "code",
   "execution_count": 4,
   "metadata": {},
   "outputs": [
    {
     "data": {
      "text/plain": [
       "[[1, 'good'], [0, 'bad'], [1, 'good']]"
      ]
     },
     "execution_count": 4,
     "metadata": {},
     "output_type": "execute_result"
    }
   ],
   "source": [
    "def splitDataSet(dataSet, axis, value): # dataSet, feature to split, feature value\n",
    "    retDataSet = []\n",
    "    for featVec in dataSet:\n",
    "        if featVec[axis] == value:\n",
    "            reducedFeatVec = featVec[:axis] + featVec[axis+1:]\n",
    "            retDataSet.append(reducedFeatVec)\n",
    "    return retDataSet\n",
    "splitDataSet(myData,1,1)"
   ]
  },
  {
   "cell_type": "markdown",
   "metadata": {},
   "source": [
    "对每个特征的每种可能出现的数值进行信息增益计算，回传信息增益最大的特征的index"
   ]
  },
  {
   "cell_type": "code",
   "execution_count": 5,
   "metadata": {},
   "outputs": [
    {
     "data": {
      "text/plain": [
       "0"
      ]
     },
     "execution_count": 5,
     "metadata": {},
     "output_type": "execute_result"
    }
   ],
   "source": [
    "def chooseBestFeatureToSplit(dataSet):\n",
    "    numFeatures = len(dataSet[0]) - 1      # the last column is used for the labels\n",
    "    baseEntropy = calcShannonEnt(dataSet)\n",
    "    bestInfoGain = 0.0; bestFeature = -1\n",
    "    for i in range(numFeatures):        # iterate over all the features\n",
    "        featList = [sample[i] for sample in dataSet] # create a list of all the examples of this feature\n",
    "        uniqueVals = set(featList)       # get a set of unique values\n",
    "        newEntropy = 0.0\n",
    "        for value in uniqueVals:\n",
    "            subDataSet = splitDataSet(dataSet, i, value)\n",
    "            ratio = len(subDataSet)/len(dataSet)\n",
    "            newEntropy += ratio * calcShannonEnt(subDataSet)     \n",
    "        infoGain = baseEntropy - newEntropy     # calculate the info gain; ie reduction in entropy\n",
    "        if (infoGain > bestInfoGain):       # compare this to the best gain so far\n",
    "            bestInfoGain = infoGain         # if better than current best, set to best\n",
    "            bestFeature = i\n",
    "    return bestFeature                      # returns an integer\n",
    "chooseBestFeatureToSplit(myData)"
   ]
  },
  {
   "cell_type": "markdown",
   "metadata": {},
   "source": [
    "第一个函数：选择枝叶下占多数的class  \n",
    "第二个函数：根据上述的函数创建决策树  "
   ]
  },
  {
   "cell_type": "code",
   "execution_count": 6,
   "metadata": {},
   "outputs": [],
   "source": [
    "def majorityCnt(classList):\n",
    "    classCount={}\n",
    "    for vote in classList:\n",
    "        classCount[vote] = classCount.get(vote,0)+1\n",
    "    sortedClassCount = sorted(classCount.items(), key=lambda x:x[1], reverse=True)\n",
    "    return sortedClassCount[0][0]\n",
    "\n",
    "def createTree(dataSet,labels):\n",
    "    classList = [sample[-1] for sample in dataSet]\n",
    "    if classList.count(classList[0]) == len(classList): \n",
    "        return classList[0] # stop splitting when all of the classes are equal\n",
    "    if len(dataSet[0]) == 1: # stop splitting when there are no more features in dataSet\n",
    "        return majorityCnt(classList)\n",
    "    bestFeat = chooseBestFeatureToSplit(dataSet)\n",
    "    bestFeatLabel = labels[bestFeat]\n",
    "    myTree = {bestFeatLabel:{}}\n",
    "    del(labels[bestFeat])\n",
    "    featValues = [example[bestFeat] for example in dataSet]\n",
    "    uniqueVals = set(featValues)\n",
    "    for value in uniqueVals:\n",
    "        subLabels = labels[:]       # copy all of labels, so trees don't mess up existing labels\n",
    "        myTree[bestFeatLabel][value] = createTree(splitDataSet(dataSet, bestFeat, value),subLabels)\n",
    "    return myTree  \n",
    "\n",
    "tree = createTree(myData.copy(), labels.copy())"
   ]
  },
  {
   "cell_type": "markdown",
   "metadata": {},
   "source": [
    "画树"
   ]
  },
  {
   "cell_type": "code",
   "execution_count": 7,
   "metadata": {},
   "outputs": [
    {
     "data": {
      "image/png": "[encoded data removed]",
      "text/plain": [
       "<Figure size 432x288 with 1 Axes>"
      ]
     },
     "metadata": {},
     "output_type": "display_data"
    }
   ],
   "source": [
    "decisionNode = dict(boxstyle=\"sawtooth\", fc=\"0.8\")\n",
    "leafNode = dict(boxstyle=\"round4\", fc=\"0.8\")\n",
    "arrow_args = dict(arrowstyle=\"<-\")\n",
    "\n",
    "def getNumLeafs(myTree):\n",
    "    numLeafs = 0\n",
    "    firstStr = list(myTree.keys())[0]\n",
    "    secondDict = myTree[firstStr]\n",
    "    for key in secondDict.keys():\n",
    "        if type(secondDict[key]).__name__=='dict':#test to see if the nodes are dictonaires, if not they are leaf nodes\n",
    "            numLeafs += getNumLeafs(secondDict[key])\n",
    "        else:   numLeafs +=1\n",
    "    return numLeafs\n",
    "\n",
    "def getTreeDepth(myTree):\n",
    "    maxDepth = 0\n",
    "    firstStr = list(myTree.keys())[0]\n",
    "    secondDict = myTree[firstStr]\n",
    "    for key in secondDict.keys():\n",
    "        if type(secondDict[key]).__name__=='dict':#test to see if the nodes are dictonaires, if not they are leaf nodes\n",
    "            thisDepth = 1 + getTreeDepth(secondDict[key])\n",
    "        else:   thisDepth = 1\n",
    "        if thisDepth > maxDepth: maxDepth = thisDepth\n",
    "    return maxDepth\n",
    "\n",
    "def plotNode(nodeTxt, centerPt, parentPt, nodeType):\n",
    "    createPlot.ax1.annotate(nodeTxt, xy=parentPt,  xycoords='axes fraction',\n",
    "             xytext=centerPt, textcoords='axes fraction',\n",
    "             va=\"center\", ha=\"center\", bbox=nodeType, arrowprops=arrow_args )\n",
    "    \n",
    "def plotMidText(cntrPt, parentPt, txtString):\n",
    "    xMid = (parentPt[0]-cntrPt[0])/2.0 + cntrPt[0]\n",
    "    yMid = (parentPt[1]-cntrPt[1])/2.0 + cntrPt[1]\n",
    "    createPlot.ax1.text(xMid, yMid, txtString, va=\"center\", ha=\"center\", rotation=30)\n",
    "\n",
    "def plotTree(myTree, parentPt, nodeTxt):#if the first key tells you what feat was split on\n",
    "    numLeafs = getNumLeafs(myTree)  #this determines the x width of this tree\n",
    "    depth = getTreeDepth(myTree)\n",
    "    firstStr = list(myTree.keys())[0]     #the text label for this node should be this\n",
    "    cntrPt = (plotTree.xOff + (1.0 + float(numLeafs))/2.0/plotTree.totalW, plotTree.yOff)\n",
    "    plotMidText(cntrPt, parentPt, nodeTxt)\n",
    "    plotNode(firstStr, cntrPt, parentPt, decisionNode)\n",
    "    secondDict = myTree[firstStr]\n",
    "    plotTree.yOff = plotTree.yOff - 1.0/plotTree.totalD\n",
    "    for key in secondDict.keys():\n",
    "        if type(secondDict[key]).__name__=='dict':#test to see if the nodes are dictonaires, if not they are leaf nodes   \n",
    "            plotTree(secondDict[key],cntrPt,str(key))        #recursion\n",
    "        else:   #it's a leaf node print the leaf node\n",
    "            plotTree.xOff = plotTree.xOff + 1.0/plotTree.totalW\n",
    "            plotNode(secondDict[key], (plotTree.xOff, plotTree.yOff), cntrPt, leafNode)\n",
    "            plotMidText((plotTree.xOff, plotTree.yOff), cntrPt, str(key))\n",
    "    plotTree.yOff = plotTree.yOff + 1.0/plotTree.totalD\n",
    "#if you do get a dictonary you know it's a tree, and the first element will be another dict\n",
    "\n",
    "def createPlot(inTree):\n",
    "    fig = plt.figure(1, facecolor='white')\n",
    "    fig.clf()\n",
    "    axprops = dict(xticks=[], yticks=[])\n",
    "    createPlot.ax1 = plt.subplot(111, frameon=False, **axprops)    #no ticks\n",
    "    #createPlot.ax1 = plt.subplot(111, frameon=False) #ticks for demo puropses \n",
    "    plotTree.totalW = float(getNumLeafs(inTree))\n",
    "    plotTree.totalD = float(getTreeDepth(inTree))\n",
    "    plotTree.xOff = -0.5/plotTree.totalW; plotTree.yOff = 1.0;\n",
    "    plotTree(inTree, (0.5,1.0), '')\n",
    "    plt.show()\n",
    "\n",
    "def retrieveTree(i):\n",
    "    listOfTrees =[{'no surfacing': {0: 'no', 1: {'flippers': {0: 'no', 1: 'yes'}}}},\n",
    "                  {'no surfacing': {0: 'no', 1: {'flippers': {0: {'head': {0: 'no', 1: 'yes'}}, 1: 'no'}}}}\n",
    "                  ]\n",
    "    return listOfTrees[i]\n",
    "\n",
    "createPlot(tree)"
   ]
  },
  {
   "cell_type": "code",
   "execution_count": 8,
   "metadata": {},
   "outputs": [
    {
     "data": {
      "text/plain": [
       "'bad'"
      ]
     },
     "execution_count": 8,
     "metadata": {},
     "output_type": "execute_result"
    }
   ],
   "source": [
    "def classify(inputTree,featLabels,testVec):\n",
    "    firstStr = list(inputTree.keys())[0]\n",
    "    secondDict = inputTree[firstStr]\n",
    "    featIndex = featLabels.index(firstStr)\n",
    "    key = testVec[featIndex]\n",
    "    valueOfFeat = secondDict[key]\n",
    "    if isinstance(valueOfFeat, dict): \n",
    "        classLabel = classify(valueOfFeat, featLabels, testVec)\n",
    "    else: classLabel = valueOfFeat\n",
    "    return classLabel\n",
    "\n",
    "classify(tree, labels, [0,1])"
   ]
  }
 ],
 "metadata": {
  "kernelspec": {
   "display_name": "Python 3",
   "language": "python",
   "name": "python3"
  },
  "language_info": {
   "codemirror_mode": {
    "name": "ipython",
    "version": 3
   },
   "file_extension": ".py",
   "mimetype": "text/x-python",
   "name": "python",
   "nbconvert_exporter": "python",
   "pygments_lexer": "ipython3",
   "version": "3.5.2"
  }
 },
 "nbformat": 4,
 "nbformat_minor": 2
}
