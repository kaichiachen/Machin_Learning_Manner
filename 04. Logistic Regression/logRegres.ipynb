{
 "cells": [
  {
   "cell_type": "code",
   "execution_count": 1,
   "metadata": {},
   "outputs": [],
   "source": [
    "import numpy as np\n",
    "import pandas as pd\n",
    "import matplotlib\n",
    "import matplotlib.pyplot as plt\n",
    "from mpl_toolkits.mplot3d import Axes3D\n",
    "%matplotlib inline"
   ]
  },
  {
   "cell_type": "markdown",
   "metadata": {},
   "source": [
    "## Logistic Regress (逻辑回归)\n",
    "回归模型是预测连续值的模型，例如预测价格，而逻辑回归基于回归模型来处理离散值分类问题的模型，以数字化的格式输入，预测是否为这一类，故其为二分类模型，我们将回归模型令为$\\sum_{i}^{n}w_i*x_i$，$w_i$和$x_i$分别代表权重以及输入，逻辑回归基于此，我们令其为sigmoid函数，公式为\n",
    "$$\n",
    "h_{w}=\\frac{1}{1+e^{\\sum_{i}^{n}w_i*x_i}}\n",
    "$$\n",
    "sigmoid会被限制在0~1之间，这也是概率的格式，图形如下所示\n",
    "![](./imgs/sigmoid.png)\n",
    "为了方便解释，我们假设就只有两个特征，$a$和$b$对应这两个特征的权重，$x$和$y$对应的是特征值，所以我们的回归模型为$\\frac{1}{1+e^{ax+by}}$。在优化问题中，有梯度上升以及梯度下降两种方法，梯度上升用于求最大值，梯度下降用于求最小值，我们的逻辑回归代表的是正负样本的概率，可以如下表示\n",
    "$$\n",
    "\\left\\{\\begin{matrix}\n",
    "P(y=1|w,x)=h_w(x)\\\\ \n",
    "P(y=0|w,x)=1-h_w(x)\n",
    "\\end{matrix}\\right.\n",
    "$$\n",
    "综合写成一个式子可以如下表示\n",
    "$$\n",
    "P(y|w,x)=h_w(x)^y(1-h_w(x))^{(1-y)}\n",
    "$$\n",
    "我们做的便是最大似然估计法，估计w值，取似然函数為\n",
    "$$L(w)=\\prod P(y|x,w) = \\prod h_w(x)^y(1-h_w(x))^{(1-y)}\n",
    "$$\n",
    "為了方便取极值，对似然函数取log，形成单调向上的函数\n",
    "$$l(w)=logL(w) = \\sum (y*logh_w(x)+(1-y)*log(1-h_w(x)))$$\n",
    "最大似然估计就是调优w使得$l(w)$尽可能的大，故需使用梯度上升法求解，为了得到梯度，我们需对此求微分$l'(w)=\\sum (h_w(x)-y)*x$  \n",
    "梯度的更新如下表示\n",
    "$$\n",
    "w=w+\\alpha \\frac {\\sum (h_w(x)-y)*x}{m}\n",
    "$$\n",
    "$\\alpha $代表梯度下降的比例，m代表数据x的长度\n",
    "### 优缺点\n",
    "\n",
    "优点：计算量少、容易实现、容易让人理解  \n",
    "缺点：容易欠拟合、精度低"
   ]
  },
  {
   "cell_type": "code",
   "execution_count": 28,
   "metadata": {},
   "outputs": [],
   "source": [
    "def loadDataSet():\n",
    "    dataMat = []; labelMat = []\n",
    "    fr = open('./datasets/testSet.txt')\n",
    "    for line in fr.readlines():\n",
    "        lineArr = line.strip().split()\n",
    "        dataMat.append([1.0, float(lineArr[0]), float(lineArr[1])])\n",
    "        labelMat.append(int(lineArr[2]))\n",
    "    return dataMat,labelMat\n",
    "\n",
    "def sigmoid(inX):\n",
    "    return 1.0/(1+np.exp(-inX))\n",
    "\n",
    "def gradAscent(dataMatIn, classLabels):\n",
    "    dataMatrix = np.mat(dataMatIn)             #convert to NumPy matrix\n",
    "    labelMat = np.mat(classLabels).transpose() #convert to NumPy matrix\n",
    "    m,n = np.shape(dataMatrix)\n",
    "    alpha = 0.001\n",
    "    maxCycles = 500\n",
    "    weights = np.ones((n,1))\n",
    "    for k in range(maxCycles):              #heavy on matrix operations\n",
    "        h = sigmoid(dataMatrix*weights)     #matrix mult\n",
    "        error = (labelMat - h)              #vector subtraction\n",
    "        weights = weights + alpha * dataMatrix.transpose()* error # dataMatrix.transpose() represents gradient of weights\n",
    "    return np.array(weights)\n",
    "dataArr, labelMat=loadDataSet()\n",
    "weights=gradAscent(dataArr,labelMat)"
   ]
  },
  {
   "cell_type": "code",
   "execution_count": 31,
   "metadata": {},
   "outputs": [
    {
     "name": "stdout",
     "output_type": "stream",
     "text": [
      "[[ 4.12414349]\n",
      " [ 0.48007329]\n",
      " [-0.6168482 ]]\n"
     ]
    },
    {
     "data": {
      "image/png": "[encoded data removed]",
      "text/plain": [
       "<Figure size 432x288 with 1 Axes>"
      ]
     },
     "metadata": {},
     "output_type": "display_data"
    }
   ],
   "source": [
    "def plotBestFit(weights):\n",
    "    dataMat,labelMat=loadDataSet()\n",
    "    dataArr = np.array(dataMat)\n",
    "    n = np.shape(dataArr)[0] \n",
    "    xcord1 = []; ycord1 = []\n",
    "    xcord2 = []; ycord2 = []\n",
    "    for i in range(n):\n",
    "        if int(labelMat[i])== 1:\n",
    "            xcord1.append(dataArr[i,1]); ycord1.append(dataArr[i,2])\n",
    "        else:\n",
    "            xcord2.append(dataArr[i,1]); ycord2.append(dataArr[i,2])\n",
    "    fig = plt.figure()\n",
    "    ax = fig.add_subplot(111)\n",
    "    ax.scatter(xcord1, ycord1, s=30, c='red', marker='s')\n",
    "    ax.scatter(xcord2, ycord2, s=30, c='green')\n",
    "    x = np.arange(-3.0, 3.0, 0.1)\n",
    "    y = (-weights[0]-weights[1]*x)/weights[2]\n",
    "    ax.plot(x, y)\n",
    "    plt.xlabel('X1'); plt.ylabel('X2');\n",
    "    plt.show()\n",
    "print(weights)\n",
    "plotBestFit(weights)"
   ]
  },
  {
   "cell_type": "markdown",
   "metadata": {},
   "source": [
    "上述的方法在每次训练时都将所有数据一起训练并取梯度，这是不现实的，因为待训练的数据通常都很大，难以载入进内存，故需分批训练，下面我们随机抽取几个数据训练"
   ]
  },
  {
   "cell_type": "code",
   "execution_count": 36,
   "metadata": {},
   "outputs": [
    {
     "name": "stdout",
     "output_type": "stream",
     "text": [
      "[14.30003747  0.88605505 -1.98935644]\n"
     ]
    },
    {
     "data": {
      "image/png": "[encoded data removed]",
      "text/plain": [
       "<Figure size 432x288 with 1 Axes>"
      ]
     },
     "metadata": {},
     "output_type": "display_data"
    }
   ],
   "source": [
    "def stocGradAscent1(dataMatrix, classLabels, numIter=150):\n",
    "    m,n = np.shape(dataMatrix)\n",
    "    weights = np.ones(n)   #initialize to all ones\n",
    "    for j in range(numIter):\n",
    "        dataIndex = list(range(m))\n",
    "        for i in range(m):\n",
    "            alpha = 4/(1.0+j+i)+0.0001    #apha decreases with iteration, does not \n",
    "            randIndex = int(np.random.uniform(0,len(dataIndex)))#go to 0 because of the constant\n",
    "            h = sigmoid(sum(dataMatrix[randIndex]*weights))\n",
    "            error = classLabels[randIndex] - h\n",
    "            weights = weights + alpha * error * dataMatrix[randIndex]\n",
    "            del(dataIndex[randIndex])\n",
    "    return weights\n",
    "weights=stocGradAscent1(np.array(dataArr),labelMat,500)\n",
    "print(weights)\n",
    "plotBestFit(weights)"
   ]
  },
  {
   "cell_type": "markdown",
   "metadata": {},
   "source": [
    "我们接下来以实际应用-检测马生与死为例，此数据有28个特征，在训练之前，数据有个问题，他有30%的数据是缺失的，我们首先处理缺失值的问题，现今主流的处理缺失值的方法如下：  \n",
    "- 以均值填补\n",
    "- 以固定的特殊值填补\n",
    "- 忽略有缺失的数据\n",
    "- 利用相似数据的缺失值填补\n",
    "- 使用其他机器学习算法来预测\n",
    "由于我们使用numpy读取数据，而numpy不容许缺失值，故我们先以0代表缺失值，0不会影响梯度，且sigmoid(0)=0.5，这也合乎模型预测的概率值"
   ]
  },
  {
   "cell_type": "code",
   "execution_count": 38,
   "metadata": {},
   "outputs": [
    {
     "name": "stderr",
     "output_type": "stream",
     "text": [
      "/usr/local/lib/python3.5/dist-packages/ipykernel_launcher.py:11: RuntimeWarning: overflow encountered in exp\n",
      "  # This is added back by InteractiveShellApp.init_path()\n"
     ]
    },
    {
     "name": "stdout",
     "output_type": "stream",
     "text": [
      "the error rate of this test is: 0.343284\n",
      "the error rate of this test is: 0.253731\n",
      "the error rate of this test is: 0.358209\n",
      "the error rate of this test is: 0.328358\n",
      "the error rate of this test is: 0.417910\n",
      "the error rate of this test is: 0.373134\n",
      "the error rate of this test is: 0.462687\n",
      "the error rate of this test is: 0.313433\n",
      "the error rate of this test is: 0.328358\n",
      "the error rate of this test is: 0.358209\n",
      "after 10 iterations the average error rate is: 0.353731\n"
     ]
    }
   ],
   "source": [
    "def classifyVector(inX, weights):\n",
    "    prob = sigmoid(sum(inX*weights))\n",
    "    if prob > 0.5: return 1.0\n",
    "    else: return 0.0\n",
    "\n",
    "def colicTest():\n",
    "    frTrain = open('datasets/horseColicTraining.txt'); frTest = open('datasets/horseColicTest.txt')\n",
    "    trainingSet = []; trainingLabels = []\n",
    "    for line in frTrain.readlines():\n",
    "        currLine = line.strip().split('\\t')\n",
    "        lineArr =[]\n",
    "        for i in range(21):\n",
    "            lineArr.append(float(currLine[i]))\n",
    "        trainingSet.append(lineArr)\n",
    "        trainingLabels.append(float(currLine[21]))\n",
    "    trainWeights = stocGradAscent1(np.array(trainingSet), trainingLabels, 1000)\n",
    "    errorCount = 0; numTestVec = 0.0\n",
    "    for line in frTest.readlines():\n",
    "        numTestVec += 1.0\n",
    "        currLine = line.strip().split('\\t')\n",
    "        lineArr =[]\n",
    "        for i in range(21):\n",
    "            lineArr.append(float(currLine[i]))\n",
    "        if int(classifyVector(np.array(lineArr), trainWeights))!= int(currLine[21]):\n",
    "            errorCount += 1\n",
    "    errorRate = (float(errorCount)/numTestVec)\n",
    "    print(\"the error rate of this test is: %f\" % errorRate)\n",
    "    return errorRate\n",
    "\n",
    "def multiTest():\n",
    "    numTests = 10; errorSum=0.0\n",
    "    for k in range(numTests):\n",
    "        errorSum += colicTest()\n",
    "    print(\"after %d iterations the average error rate is: %f\" % (numTests, errorSum/float(numTests)))\n",
    "multiTest()       "
   ]
  }
 ],
 "metadata": {
  "kernelspec": {
   "display_name": "Python 3",
   "language": "python",
   "name": "python3"
  },
  "language_info": {
   "codemirror_mode": {
    "name": "ipython",
    "version": 3
   },
   "file_extension": ".py",
   "mimetype": "text/x-python",
   "name": "python",
   "nbconvert_exporter": "python",
   "pygments_lexer": "ipython3",
   "version": "3.5.2"
  }
 },
 "nbformat": 4,
 "nbformat_minor": 2
}
