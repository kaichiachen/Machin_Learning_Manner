{
 "cells": [
  {
   "cell_type": "markdown",
   "metadata": {},
   "source": [
    "## 模型评价(Evaluation)\n",
    "学习伊始，先从如何对模型evaluation开始，所有机器学习模型都是数据输入，结果输出，如下形式\n",
    "$$\n",
    "f(x)=y\n",
    "$$\n",
    "y可能是离散值，例如预测明天天气晴朗与否，也可能是连续值，例如预测高速公路流量，我们先从对离散值对评价开始\n",
    "\n",
    "## 离散结果评价\n",
    "通常分类问题的输出都是离散值，分类是非常常见的应用，故需要特别拿出来讨论，一个非常直觉的判定分类问题的精准度为$\\frac{\\sum_{i}^{N} y_i=label_i}{N}$，然而这在分类极度不平衡的场景则显得不适合，例如异常检测，若有个系统发生异常的几率是1%，那么模型只要对所有情况判定为正常，准确率也能高达99%，故我们需要其他评价方法来适配这种场景。首先，下面先介绍confusion matrix\n",
    "![](./imgs/confusion_matrix.png)\n",
    "行代表预测值y，列代表真实值label，TP和TN代表正确预测，希望尽可能的高而FP和FN代表错误预测，希望尽可能的低。我们将基于这四个值来定义新的评价方法。\n",
    "1. Precision - $\\frac{TP}{TP+FP}$，用来测量在所有被分类为正的样本中，被分类正确的精准度\n",
    "2. Recall - $\\frac{TP}{TP+FN}$，用来测量在所有正样本中，被分类正确的比例\n",
    "3. ROC曲线 - 一种视觉化的对超参数调参的方法，如下图所示\n",
    "![](./imgs/roc.png)\n",
    "横轴和纵轴分别代表$FPR=\\frac{FP}{FP+TN}$和$TPR=\\frac{TP}{TP+FN}$，FPR代表所有實際為正的样本中，被錯誤地判斷為正之比率，而TPR代表所有實際為正的樣本中，被正確地判斷為正样本之比率\n",
    "经过各种超参数训练后，绘出ROC如上图所示，越接近左上角代表模型越好"
   ]
  }
 ],
 "metadata": {
  "kernelspec": {
   "display_name": "Python 3",
   "language": "python",
   "name": "python3"
  },
  "language_info": {
   "codemirror_mode": {
    "name": "ipython",
    "version": 3
   },
   "file_extension": ".py",
   "mimetype": "text/x-python",
   "name": "python",
   "nbconvert_exporter": "python",
   "pygments_lexer": "ipython3",
   "version": "3.5.2"
  }
 },
 "nbformat": 4,
 "nbformat_minor": 2
}
