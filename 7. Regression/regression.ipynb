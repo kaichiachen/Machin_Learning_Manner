{
 "cells": [
  {
   "cell_type": "code",
   "execution_count": 1,
   "metadata": {},
   "outputs": [],
   "source": [
    "import numpy as np\n",
    "import pandas as pd\n",
    "import matplotlib\n",
    "import matplotlib.pyplot as plt\n",
    "from mpl_toolkits.mplot3d import Axes3D\n",
    "%matplotlib inline"
   ]
  },
  {
   "cell_type": "markdown",
   "metadata": {},
   "source": [
    "# Linear Regression (线性回归),\n",
    "与前面谈到的逻辑回归不同，线性回归预测的是连续的数值，可以用此公式表示：$f(w,x)=w^Tx=y$，其中w和x分别代表权重以及输入，而w是我们要优化的变量。首先，先构造一个误差函数$\\sum_{i}^{N}(y_i-w^Tx_i)^2$，此误差函数为一种凸函数，其最低点，也就是微分后为0的点为最优点，故能直接带入公式求极值$\\hat{w}=(x^Tx)^{-1}x^Ty$，此称为最下二乘法，然而，如果需要训练的数据量非常大，在计算反矩阵将会消耗非常大量的计算资源，故一般使用牛顿法进行优化\n",
    "\n",
    "### 优缺点\n",
    "\n",
    "优点：对结果可解释性高、计算量少  \n",
    "缺点：不适合处理非线性数据\n",
    "\n",
    "接下来我们对最小二乘法以及梯度下降法法进行演示"
   ]
  },
  {
   "cell_type": "code",
   "execution_count": 2,
   "metadata": {},
   "outputs": [
    {
     "data": {
      "text/plain": [
       "matrix([[3.00774324],\n",
       "        [1.69532264]])"
      ]
     },
     "execution_count": 2,
     "metadata": {},
     "output_type": "execute_result"
    }
   ],
   "source": [
    "def loadDataSet(fileName):      #general function to parse tab -delimited floats\n",
    "    numFeat = len(open(fileName).readline().split('\\t')) - 1 #get number of fields \n",
    "    dataMat = []; labelMat = []\n",
    "    fr = open(fileName)\n",
    "    for line in fr.readlines():\n",
    "        lineArr =[]\n",
    "        curLine = line.strip().split('\\t')\n",
    "        for i in range(numFeat):\n",
    "            lineArr.append(float(curLine[i]))\n",
    "        dataMat.append(lineArr)\n",
    "        labelMat.append(float(curLine[-1]))\n",
    "    return dataMat,labelMat\n",
    "\n",
    "def standRegres(xArr,yArr):\n",
    "    xMat = np.mat(xArr); yMat = np.mat(yArr).T\n",
    "    xTx = xMat.T*xMat\n",
    "    if np.linalg.det(xTx) == 0.0:\n",
    "        print(\"This matrix is singular, cannot do inverse\")\n",
    "        return\n",
    "    ws = xTx.I * (xMat.T*yMat)\n",
    "    return ws\n",
    "xs,ys = loadDataSet('datasets/ex0.txt')\n",
    "ws=standRegres(xs,ys)\n",
    "ws"
   ]
  },
  {
   "cell_type": "code",
   "execution_count": 3,
   "metadata": {},
   "outputs": [
    {
     "data": {
      "image/png": "[encoded data removed]",
      "text/plain": [
       "<Figure size 432x288 with 1 Axes>"
      ]
     },
     "metadata": {},
     "output_type": "display_data"
    }
   ],
   "source": [
    "xMat=np.mat(xs)\n",
    "yMat=np.mat(ys)\n",
    "fig=plt.figure()\n",
    "ax=fig.add_subplot(111)\n",
    "ax.scatter(xMat[:,1].flatten().A[0],yMat.T[:,0].flatten().A[0],s=2,c='red')\n",
    "yHat=xMat*ws\n",
    "ax.plot(xMat[:,1],yHat)\n",
    "plt.show()"
   ]
  },
  {
   "cell_type": "code",
   "execution_count": 4,
   "metadata": {},
   "outputs": [
    {
     "data": {
      "text/plain": [
       "array([[1.        , 0.98647356],\n",
       "       [0.98647356, 1.        ]])"
      ]
     },
     "execution_count": 4,
     "metadata": {},
     "output_type": "execute_result"
    }
   ],
   "source": [
    "np.corrcoef(yHat.T,yMat)"
   ]
  },
  {
   "cell_type": "markdown",
   "metadata": {},
   "source": [
    "以上是直接求极值对结果，从最后画的图来看还算满准确的，numpy有提供求相关系数的API，可以直接调用，我们预测出的y以及实际的label相关性高达0.98\n",
    "接下来，为了解决回归难以处理非线性问题，我们使用LWLR方法，与之前SVM的核方法(kernel)相似\n",
    "$$\n",
    "w=exp\\left ( \\frac{|x^i-x|}{-2k^2} \\right )\n",
    "$$"
   ]
  },
  {
   "cell_type": "code",
   "execution_count": 5,
   "metadata": {},
   "outputs": [
    {
     "data": {
      "text/plain": [
       "(matrix([[3.12204471]]), matrix([[3.20175729]]))"
      ]
     },
     "execution_count": 5,
     "metadata": {},
     "output_type": "execute_result"
    }
   ],
   "source": [
    "def lwlr(testPoint,xArr,yArr,k=1.0):\n",
    "    xMat = np.mat(xArr); yMat = np.mat(yArr).T\n",
    "    m = np.shape(xMat)[0]\n",
    "    weights = np.mat(np.eye((m)))\n",
    "    for j in range(m):                      #next 2 lines create weights matrix\n",
    "        diffMat = testPoint - xMat[j,:]     #\n",
    "        weights[j,j] = np.exp(diffMat*diffMat.T/(-2.0*k**2))\n",
    "    xTx = xMat.T * (weights * xMat)\n",
    "    if np.linalg.det(xTx) == 0.0:\n",
    "        print(\"This matrix is singular, cannot do inverse\")\n",
    "        return\n",
    "    ws = xTx.I * (xMat.T * (weights * yMat))\n",
    "    return testPoint * ws\n",
    "\n",
    "def lwlrTest(testArr,xArr,yArr,k=1.0):  #loops over all the data points and applies lwlr to each one\n",
    "    m = np.shape(testArr)[0]\n",
    "    yHat = np.zeros(m)\n",
    "    for i in range(m):\n",
    "        yHat[i] = lwlr(testArr[i],xArr,yArr,k)\n",
    "    return yHat\n",
    "xs,ys = loadDataSet('datasets/ex0.txt')\n",
    "lwlr(xs[0],xs,ys,1.0), lwlr(xs[0],xs,ys,0.001)"
   ]
  },
  {
   "cell_type": "code",
   "execution_count": 6,
   "metadata": {},
   "outputs": [
    {
     "data": {
      "image/png": "[encoded data removed]",
      "text/plain": [
       "<Figure size 432x288 with 1 Axes>"
      ]
     },
     "metadata": {},
     "output_type": "display_data"
    }
   ],
   "source": [
    "yHat=lwlrTest(xs, xs, ys, 1.0)\n",
    "xMat=np.mat(xs)\n",
    "srtIdx=xMat[:,1].argsort(0)\n",
    "xSort=xMat[srtIdx][:,0,:]\n",
    "\n",
    "fig=plt.figure()\n",
    "ax=fig.add_subplot(111)\n",
    "ax.scatter(xMat[:,1].flatten().A[0],np.mat(ys).T.flatten().A[0],s=2,c='red')\n",
    "ax.plot(xSort[:,1],yHat[srtIdx])\n",
    "plt.show()"
   ]
  },
  {
   "cell_type": "code",
   "execution_count": 7,
   "metadata": {},
   "outputs": [
    {
     "data": {
      "image/png": "[encoded data removed]",
      "text/plain": [
       "<Figure size 432x288 with 1 Axes>"
      ]
     },
     "metadata": {},
     "output_type": "display_data"
    }
   ],
   "source": [
    "yHat=lwlrTest(xs, xs, ys, 0.01)\n",
    "xMat=np.mat(xs)\n",
    "srtIdx=xMat[:,1].argsort(0)\n",
    "xSort=xMat[srtIdx][:,0,:]\n",
    "\n",
    "fig=plt.figure()\n",
    "ax=fig.add_subplot(111)\n",
    "ax.scatter(xMat[:,1].flatten().A[0],np.mat(ys).T.flatten().A[0],s=2,c='red')\n",
    "ax.plot(xSort[:,1],yHat[srtIdx])\n",
    "plt.show()"
   ]
  },
  {
   "cell_type": "code",
   "execution_count": 8,
   "metadata": {},
   "outputs": [
    {
     "data": {
      "image/png": "[encoded data removed]",
      "text/plain": [
       "<Figure size 432x288 with 1 Axes>"
      ]
     },
     "metadata": {},
     "output_type": "display_data"
    }
   ],
   "source": [
    "yHat=lwlrTest(xs, xs, ys, 0.003)\n",
    "xMat=np.mat(xs)\n",
    "srtIdx=xMat[:,1].argsort(0)\n",
    "xSort=xMat[srtIdx][:,0,:]\n",
    "\n",
    "fig=plt.figure()\n",
    "ax=fig.add_subplot(111)\n",
    "ax.scatter(xMat[:,1].flatten().A[0],np.mat(ys).T.flatten().A[0],s=2,c='red')\n",
    "ax.plot(xSort[:,1],yHat[srtIdx])\n",
    "plt.show()"
   ]
  },
  {
   "cell_type": "markdown",
   "metadata": {},
   "source": [
    "接下来我们利用预测鲍鱼的年龄来解释避免回归过拟合的方法-ridge regression和lasso regression"
   ]
  },
  {
   "cell_type": "code",
   "execution_count": 11,
   "metadata": {},
   "outputs": [],
   "source": [
    "def errorfc(yArr,yHatArr): # yArr and yHatArr both need to be arrays\n",
    "    return ((yArr-yHatArr)**2).sum()\n",
    "xs,ys = loadDataSet('datasets/abalone.txt')\n",
    "yHat0_1=lwlrTest(xs[0:99],xs[0:99],ys[0:99],0.1)\n",
    "yHat1_0=lwlrTest(xs[0:99],xs[0:99],ys[0:99],1)\n",
    "yHat10_0=lwlrTest(xs[0:99],xs[0:99],ys[0:99],10)"
   ]
  },
  {
   "cell_type": "code",
   "execution_count": 12,
   "metadata": {},
   "outputs": [
    {
     "data": {
      "text/plain": [
       "(56.78868743048742, 429.8905618704059, 549.1181708828803)"
      ]
     },
     "execution_count": 12,
     "metadata": {},
     "output_type": "execute_result"
    }
   ],
   "source": [
    "errorfc(ys[0:99],yHat0_1.T),errorfc(ys[0:99],yHat1_0.T),errorfc(ys[0:99],yHat10_0.T)"
   ]
  },
  {
   "cell_type": "markdown",
   "metadata": {},
   "source": [
    "可以看到，kernel值越小，误差越小，我们何不使用尽可能小的kernel值呢？太小的kernel值容易造成过拟合，我们接下来看看精准度"
   ]
  },
  {
   "cell_type": "code",
   "execution_count": 13,
   "metadata": {},
   "outputs": [],
   "source": [
    "yHat0_1=lwlrTest(xs[100:199],xs[0:99],ys[0:99],0.1)\n",
    "yHat1_0=lwlrTest(xs[100:199],xs[0:99],ys[0:99],1)\n",
    "yHat10_0=lwlrTest(xs[100:199],xs[0:99],ys[0:99],10)"
   ]
  },
  {
   "cell_type": "code",
   "execution_count": 14,
   "metadata": {},
   "outputs": [
    {
     "data": {
      "text/plain": [
       "(57913.51550155909, 573.5261441894984, 517.5711905381573)"
      ]
     },
     "execution_count": 14,
     "metadata": {},
     "output_type": "execute_result"
    }
   ],
   "source": [
    "errorfc(ys[100:199],yHat0_1.T),errorfc(ys[100:199],yHat1_0.T),errorfc(ys[100:199],yHat10_0.T)"
   ]
  },
  {
   "cell_type": "markdown",
   "metadata": {},
   "source": [
    "我们首先介绍第一个解决过拟合的方法-ridge regression，他对损失函数增加来惩罚来降低不重要的参数值，最小二乘法公式变成$\\hat{w}=(x^Tx+\\lambda I)^{-1}x^Ty$，而梯度下降法为$\\sum_{n}^{N}(y-w^Tx)^2 + \\lambda \\sum_{m}^{M}w_m^2$，其中$\\lambda $为超参数，可以自己设置"
   ]
  },
  {
   "cell_type": "code",
   "execution_count": 18,
   "metadata": {},
   "outputs": [],
   "source": [
    "def ridgeRegres(xMat,yMat,lam=0.2):\n",
    "    xTx = xMat.T*xMat\n",
    "    denom = xTx + np.eye(np.shape(xMat)[1])*lam\n",
    "    if np.linalg.det(denom) == 0.0:\n",
    "        print(\"This matrix is singular, cannot do inverse\")\n",
    "        return\n",
    "    ws = denom.I * (xMat.T*yMat)\n",
    "    return ws\n",
    "    \n",
    "def ridgeTest(xArr,yArr):\n",
    "    xMat = np.mat(xArr); yMat=np.mat(yArr).T\n",
    "    yMean = np.mean(yMat,0)\n",
    "    yMat = yMat - yMean     #to eliminate X0 take mean off of Y\n",
    "    #regularize X's\n",
    "    xMeans = np.mean(xMat,0)   #calc mean then subtract it off\n",
    "    xVar = np.var(xMat,0)      #calc variance of Xi then divide by it\n",
    "    xMat = (xMat - xMeans)/xVar\n",
    "    numTestPts = 30\n",
    "    wMat = np.zeros((numTestPts,np.shape(xMat)[1]))\n",
    "    for i in range(numTestPts):\n",
    "        ws = ridgeRegres(xMat,yMat,np.exp(i-10))\n",
    "        wMat[i,:]=ws.T\n",
    "    return wMat\n",
    "xs,ys = loadDataSet('datasets/abalone.txt')\n",
    "ws=ridgeTest(xs,ys)"
   ]
  },
  {
   "cell_type": "code",
   "execution_count": 21,
   "metadata": {},
   "outputs": [
    {
     "data": {
      "image/png": "[encoded data removed]",
      "text/plain": [
       "<Figure size 432x288 with 1 Axes>"
      ]
     },
     "metadata": {},
     "output_type": "display_data"
    }
   ],
   "source": [
    "fig=plt.figure()\n",
    "ax=fig.add_subplot(111)\n",
    "ax.plot(ws)\n",
    "plt.show()"
   ]
  },
  {
   "cell_type": "markdown",
   "metadata": {},
   "source": [
    "上图表示不同lambda代表不同的权重值，可以看出lambda越大，权重的variance越小"
   ]
  },
  {
   "cell_type": "markdown",
   "metadata": {},
   "source": [
    "接下来介绍第二种解决过拟合的方法-lasso regression，ridge回归增加了这个限制，$\\sum_{N}^{n}w_n^2\\leq \\lambda $，而lasso是对权重进行绝对值对操作$\\sum_{N}^{n}|w_n|\\leq \\lambda $，ridge回归的缺点是模型变量特别多，可解释性差，lasso的好处是变量少，可解释力强，但缺点是损失函数不可导，只能用特殊的方法优化，下面我们使用常见的算法之一-前向梯度(Forward Stagewise)算法。"
   ]
  },
  {
   "cell_type": "code",
   "execution_count": 32,
   "metadata": {
    "scrolled": false
   },
   "outputs": [
    {
     "name": "stdout",
     "output_type": "stream",
     "text": [
      "[[0. 0. 0. 0. 0. 0. 0. 0.]]\n",
      "[[0.   0.   0.01 0.06 0.   0.   0.   0.03]]\n",
      "[[ 0.    0.    0.01  0.05  0.   -0.01  0.    0.11]]\n",
      "[[ 0.    0.    0.01  0.05  0.   -0.07  0.    0.15]]\n",
      "[[ 0.    0.    0.01  0.05  0.   -0.13  0.    0.19]]\n",
      "[[ 0.    0.    0.01  0.05  0.   -0.2   0.    0.22]]\n",
      "[[ 0.    0.    0.02  0.04  0.   -0.25  0.    0.25]]\n",
      "[[ 0.    0.    0.03  0.04  0.   -0.3   0.    0.29]]\n",
      "[[ 0.    0.    0.05  0.04  0.   -0.37  0.    0.3 ]]\n",
      "[[ 0.    0.    0.06  0.04  0.   -0.43  0.    0.33]]\n",
      "[[ 0.    0.    0.08  0.03  0.   -0.47  0.    0.36]]\n",
      "[[ 0.01  0.    0.09  0.03  0.01 -0.53  0.    0.37]]\n",
      "[[ 0.01  0.    0.09  0.03  0.08 -0.56  0.    0.37]]\n",
      "[[ 0.02  0.    0.09  0.03  0.15 -0.58  0.    0.37]]\n",
      "[[ 0.03  0.    0.09  0.03  0.21 -0.61  0.    0.37]]\n",
      "[[ 0.04  0.    0.09  0.03  0.27 -0.63  0.    0.36]]\n",
      "[[ 0.05  0.    0.09  0.03  0.31 -0.64  0.    0.36]]\n",
      "[[ 0.05  0.    0.09  0.03  0.31 -0.64  0.    0.36]]\n",
      "[[ 0.05  0.    0.09  0.03  0.31 -0.64  0.    0.36]]\n",
      "[[ 0.05  0.    0.09  0.03  0.31 -0.64  0.    0.36]]\n"
     ]
    },
    {
     "data": {
      "text/plain": [
       "array([[ 0.  ,  0.  ,  0.  , ...,  0.  ,  0.  ,  0.  ],\n",
       "       [ 0.  ,  0.  ,  0.  , ...,  0.  ,  0.  ,  0.  ],\n",
       "       [ 0.  ,  0.  ,  0.  , ...,  0.  ,  0.  ,  0.  ],\n",
       "       ...,\n",
       "       [ 0.05,  0.  ,  0.09, ..., -0.64,  0.  ,  0.36],\n",
       "       [ 0.04,  0.  ,  0.09, ..., -0.64,  0.  ,  0.36],\n",
       "       [ 0.05,  0.  ,  0.09, ..., -0.64,  0.  ,  0.36]])"
      ]
     },
     "execution_count": 32,
     "metadata": {},
     "output_type": "execute_result"
    }
   ],
   "source": [
    "def regularize(xMat):#regularize by columns\n",
    "    inMat = xMat.copy()\n",
    "    inMeans = np.mean(inMat,0)   #calc mean then subtract it off\n",
    "    inVar = np.var(inMat,0)      #calc variance of Xi then divide by it\n",
    "    inMat = (inMat - inMeans)/inVar\n",
    "    return inMat\n",
    "\n",
    "def stageWise(xArr,yArr,eps=0.01,numIt=100):\n",
    "    xMat = np.mat(xArr); yMat=np.mat(yArr).T\n",
    "    yMean = np.mean(yMat,0)\n",
    "    yMat = yMat - yMean     #can also regularize ys but will get smaller coef\n",
    "    xMat = regularize(xMat)\n",
    "    m,n=np.shape(xMat)\n",
    "    returnMat = np.zeros((numIt,n))\n",
    "    ws = np.zeros((n,1)); wsTest = ws.copy(); wsMax = ws.copy()\n",
    "    for i in range(numIt):\n",
    "        if i%10==0:\n",
    "            print(ws.T)\n",
    "        lowestError = np.inf; \n",
    "        for j in range(n):\n",
    "            for sign in [-1,1]:\n",
    "                wsTest = ws.copy()\n",
    "                wsTest[j] += eps*sign\n",
    "                yTest = xMat*wsTest\n",
    "                rssE = errorfc(yMat.A,yTest.A)\n",
    "                if rssE < lowestError:\n",
    "                    lowestError = rssE\n",
    "                    wsMax = wsTest\n",
    "        ws = wsMax.copy()\n",
    "        returnMat[i,:]=ws.T\n",
    "    return returnMat\n",
    "\n",
    "xs,ys = loadDataSet('datasets/abalone.txt')\n",
    "stageWise(xs,ys,0.01,200)"
   ]
  },
  {
   "cell_type": "markdown",
   "metadata": {},
   "source": [
    "可以看到$w_1$和$w_6$都是0，代表这两个是比较不重要的特征，我们发现在最后他在某个地方来回震荡，代表eps设太大了，我们调小一点"
   ]
  },
  {
   "cell_type": "code",
   "execution_count": 33,
   "metadata": {
    "scrolled": false
   },
   "outputs": [
    {
     "name": "stdout",
     "output_type": "stream",
     "text": [
      "[[0. 0. 0. 0. 0. 0. 0. 0.]]\n",
      "[[0.   0.   0.   0.01 0.   0.   0.   0.  ]]\n",
      "[[0.   0.   0.   0.02 0.   0.   0.   0.  ]]\n",
      "[[0.   0.   0.   0.03 0.   0.   0.   0.  ]]\n",
      "[[0.   0.   0.   0.04 0.   0.   0.   0.  ]]\n",
      "[[0.   0.   0.   0.05 0.   0.   0.   0.  ]]\n",
      "[[0.   0.   0.   0.06 0.   0.   0.   0.  ]]\n",
      "[[0.    0.    0.005 0.065 0.    0.    0.    0.   ]]\n",
      "[[0.    0.    0.005 0.065 0.    0.    0.    0.01 ]]\n",
      "[[0.    0.    0.005 0.065 0.    0.    0.    0.02 ]]\n",
      "[[0.    0.    0.005 0.065 0.    0.    0.    0.03 ]]\n",
      "[[0.    0.    0.005 0.065 0.    0.    0.    0.04 ]]\n",
      "[[0.    0.    0.005 0.065 0.    0.    0.    0.05 ]]\n",
      "[[0.    0.    0.005 0.063 0.    0.    0.    0.058]]\n",
      "[[0.    0.    0.005 0.061 0.    0.    0.    0.066]]\n",
      "[[0.    0.    0.005 0.059 0.    0.    0.    0.074]]\n",
      "[[0.    0.    0.005 0.057 0.    0.    0.    0.082]]\n",
      "[[0.    0.    0.005 0.055 0.    0.    0.    0.09 ]]\n",
      "[[0.    0.    0.005 0.053 0.    0.    0.    0.098]]\n",
      "[[0.    0.    0.005 0.05  0.    0.    0.    0.105]]\n",
      "[[0.    0.    0.005 0.048 0.    0.    0.    0.113]]\n",
      "[[0.    0.    0.005 0.046 0.    0.    0.    0.121]]\n",
      "[[ 0.     0.     0.005  0.046  0.    -0.005  0.     0.126]]\n",
      "[[ 0.     0.     0.005  0.046  0.    -0.012  0.     0.129]]\n",
      "[[ 0.     0.     0.005  0.046  0.    -0.018  0.     0.133]]\n",
      "[[ 0.     0.     0.005  0.045  0.    -0.022  0.     0.138]]\n",
      "[[ 0.     0.     0.005  0.045  0.    -0.028  0.     0.142]]\n",
      "[[ 0.     0.     0.005  0.045  0.    -0.034  0.     0.146]]\n",
      "[[ 0.     0.     0.005  0.045  0.    -0.04   0.     0.15 ]]\n",
      "[[ 0.     0.     0.005  0.045  0.    -0.046  0.     0.154]]\n",
      "[[ 0.     0.     0.005  0.045  0.    -0.053  0.     0.157]]\n",
      "[[ 0.     0.     0.005  0.045  0.    -0.059  0.     0.161]]\n",
      "[[ 0.     0.     0.005  0.044  0.    -0.063  0.     0.166]]\n",
      "[[ 0.     0.     0.005  0.044  0.    -0.069  0.     0.17 ]]\n",
      "[[ 0.     0.     0.005  0.044  0.    -0.075  0.     0.174]]\n",
      "[[ 0.     0.     0.005  0.044  0.    -0.081  0.     0.178]]\n",
      "[[ 0.     0.     0.005  0.044  0.    -0.088  0.     0.181]]\n",
      "[[ 0.     0.     0.005  0.044  0.    -0.094  0.     0.185]]\n",
      "[[ 0.     0.     0.005  0.043  0.    -0.098  0.     0.19 ]]\n",
      "[[ 0.     0.     0.005  0.043  0.    -0.104  0.     0.194]]\n",
      "[[ 0.     0.     0.005  0.043  0.    -0.11   0.     0.198]]\n",
      "[[ 0.     0.     0.005  0.043  0.    -0.116  0.     0.202]]\n",
      "[[ 0.     0.     0.005  0.043  0.    -0.123  0.     0.205]]\n",
      "[[ 0.     0.     0.005  0.042  0.    -0.127  0.     0.21 ]]\n",
      "[[ 0.     0.     0.005  0.042  0.    -0.133  0.     0.214]]\n",
      "[[ 0.     0.     0.006  0.042  0.    -0.139  0.     0.217]]\n",
      "[[ 0.     0.     0.008  0.042  0.    -0.146  0.     0.218]]\n",
      "[[ 0.     0.     0.01   0.041  0.    -0.15   0.     0.221]]\n",
      "[[ 0.     0.     0.011  0.041  0.    -0.156  0.     0.224]]\n",
      "[[ 0.     0.     0.012  0.041  0.    -0.163  0.     0.226]]\n",
      "[[ 0.     0.     0.014  0.041  0.    -0.169  0.     0.228]]\n",
      "[[ 0.     0.     0.016  0.04   0.    -0.174  0.     0.23 ]]\n",
      "[[ 0.     0.     0.017  0.04   0.    -0.18   0.     0.233]]\n",
      "[[ 0.     0.     0.018  0.04   0.    -0.186  0.     0.236]]\n",
      "[[ 0.     0.     0.02   0.04   0.    -0.193  0.     0.237]]\n",
      "[[ 0.     0.     0.022  0.039  0.    -0.197  0.     0.24 ]]\n",
      "[[ 0.     0.     0.023  0.039  0.    -0.204  0.     0.242]]\n",
      "[[ 0.     0.     0.024  0.039  0.    -0.21   0.     0.245]]\n",
      "[[ 0.     0.     0.025  0.039  0.    -0.217  0.     0.247]]\n",
      "[[ 0.     0.     0.028  0.038  0.    -0.221  0.     0.249]]\n",
      "[[ 0.     0.     0.029  0.038  0.    -0.227  0.     0.252]]\n",
      "[[ 0.     0.     0.03   0.038  0.    -0.234  0.     0.254]]\n",
      "[[ 0.     0.     0.032  0.038  0.    -0.24   0.     0.256]]\n",
      "[[ 0.     0.     0.034  0.037  0.    -0.245  0.     0.258]]\n",
      "[[ 0.     0.     0.035  0.037  0.    -0.251  0.     0.261]]\n",
      "[[ 0.     0.     0.036  0.037  0.    -0.258  0.     0.263]]\n",
      "[[ 0.     0.     0.038  0.036  0.    -0.262  0.     0.266]]\n",
      "[[ 0.     0.     0.04   0.036  0.    -0.268  0.     0.268]]\n",
      "[[ 0.     0.     0.041  0.036  0.    -0.275  0.     0.27 ]]\n",
      "[[ 0.     0.     0.042  0.036  0.    -0.281  0.     0.273]]\n",
      "[[ 0.     0.     0.044  0.035  0.    -0.285  0.     0.276]]\n",
      "[[ 0.     0.     0.046  0.035  0.    -0.292  0.     0.277]]\n",
      "[[ 0.     0.     0.047  0.035  0.    -0.298  0.     0.28 ]]\n",
      "[[ 0.     0.     0.048  0.035  0.    -0.305  0.     0.282]]\n",
      "[[ 0.     0.     0.05   0.034  0.    -0.309  0.     0.285]]\n",
      "[[ 0.     0.     0.051  0.034  0.    -0.316  0.     0.287]]\n",
      "[[ 0.     0.     0.053  0.034  0.    -0.322  0.     0.289]]\n",
      "[[ 0.     0.     0.055  0.033  0.    -0.327  0.     0.291]]\n",
      "[[ 0.     0.     0.056  0.033  0.    -0.333  0.     0.294]]\n",
      "[[ 0.     0.     0.057  0.033  0.    -0.339  0.     0.297]]\n",
      "[[ 0.     0.     0.058  0.033  0.    -0.346  0.     0.299]]\n",
      "[[ 0.     0.     0.061  0.032  0.    -0.35   0.     0.301]]\n",
      "[[ 0.     0.     0.062  0.032  0.    -0.357  0.     0.303]]\n",
      "[[ 0.     0.     0.063  0.032  0.    -0.363  0.     0.306]]\n",
      "[[ 0.     0.     0.065  0.032  0.    -0.37   0.     0.307]]\n",
      "[[ 0.     0.     0.066  0.031  0.    -0.374  0.     0.311]]\n",
      "[[ 0.     0.     0.068  0.031  0.    -0.38   0.     0.313]]\n",
      "[[ 0.     0.     0.069  0.031  0.    -0.387  0.     0.315]]\n",
      "[[ 0.     0.     0.07   0.03   0.    -0.392  0.     0.318]]\n",
      "[[ 0.     0.     0.073  0.03   0.    -0.397  0.     0.32 ]]\n",
      "[[ 0.     0.     0.074  0.03   0.    -0.404  0.     0.322]]\n",
      "[[ 0.     0.     0.075  0.03   0.    -0.41   0.     0.325]]\n",
      "[[ 0.     0.     0.077  0.029  0.    -0.415  0.     0.327]]\n",
      "[[ 0.     0.     0.078  0.029  0.    -0.421  0.     0.33 ]]\n",
      "[[ 0.     0.     0.08   0.029  0.    -0.428  0.     0.331]]\n",
      "[[ 0.     0.     0.081  0.028  0.    -0.433  0.     0.334]]\n",
      "[[ 0.     0.     0.083  0.028  0.    -0.438  0.     0.337]]\n",
      "[[ 0.     0.     0.085  0.028  0.    -0.445  0.     0.338]]\n",
      "[[ 0.     0.     0.086  0.028  0.    -0.451  0.     0.341]]\n",
      "[[ 0.     0.     0.088  0.027  0.    -0.456  0.     0.343]]\n",
      "[[ 0.     0.     0.089  0.027  0.    -0.462  0.     0.346]]\n",
      "[[ 0.     0.     0.09   0.027  0.    -0.468  0.     0.349]]\n",
      "[[ 0.     0.     0.092  0.027  0.    -0.475  0.     0.35 ]]\n",
      "[[ 0.     0.     0.094  0.026  0.    -0.479  0.     0.353]]\n",
      "[[ 0.     0.     0.095  0.026  0.    -0.486  0.     0.355]]\n",
      "[[ 0.     0.     0.097  0.026  0.    -0.492  0.     0.357]]\n",
      "[[ 0.     0.     0.097  0.026  0.    -0.499  0.     0.36 ]]\n",
      "[[ 0.     0.     0.1    0.025  0.    -0.503  0.     0.362]]\n",
      "[[ 0.     0.     0.101  0.025  0.    -0.509  0.     0.365]]\n",
      "[[ 0.     0.     0.102  0.025  0.    -0.516  0.     0.367]]\n",
      "[[ 0.     0.     0.104  0.024  0.    -0.52   0.     0.37 ]]\n",
      "[[ 0.     0.     0.105  0.024  0.    -0.527  0.     0.372]]\n",
      "[[ 0.     0.     0.107  0.024  0.    -0.533  0.     0.374]]\n",
      "[[ 0.     0.     0.107  0.024  0.006 -0.537  0.     0.374]]\n",
      "[[ 0.     0.     0.108  0.024  0.011 -0.541  0.     0.374]]\n",
      "[[ 0.     0.     0.108  0.024  0.018 -0.544  0.     0.374]]\n",
      "[[ 0.     0.     0.108  0.024  0.025 -0.547  0.     0.374]]\n",
      "[[ 0.     0.     0.108  0.024  0.032 -0.55   0.     0.374]]\n",
      "[[ 0.     0.     0.108  0.024  0.039 -0.553  0.     0.374]]\n",
      "[[ 0.     0.     0.109  0.023  0.046 -0.554  0.     0.374]]\n",
      "[[ 0.     0.     0.109  0.023  0.053 -0.557  0.     0.374]]\n",
      "[[ 0.     0.     0.109  0.023  0.06  -0.56   0.     0.374]]\n",
      "[[ 0.     0.     0.109  0.023  0.067 -0.563  0.     0.374]]\n",
      "[[ 0.     0.     0.109  0.023  0.073 -0.567  0.     0.374]]\n",
      "[[ 0.     0.     0.109  0.023  0.08  -0.57   0.     0.374]]\n",
      "[[ 0.     0.     0.109  0.023  0.087 -0.573  0.     0.374]]\n",
      "[[ 0.     0.     0.109  0.023  0.094 -0.575 -0.001  0.374]]\n",
      "[[ 0.     0.     0.109  0.023  0.102 -0.577 -0.001  0.374]]\n",
      "[[ 0.001  0.     0.109  0.023  0.109 -0.578 -0.002  0.374]]\n",
      "[[ 0.001  0.     0.109  0.023  0.116 -0.58  -0.003  0.374]]\n",
      "[[ 0.001  0.     0.11   0.022  0.123 -0.581 -0.003  0.374]]\n",
      "[[ 0.001  0.     0.11   0.022  0.13  -0.584 -0.003  0.374]]\n",
      "[[ 0.002  0.     0.11   0.022  0.137 -0.585 -0.004  0.374]]\n",
      "[[ 0.003  0.     0.11   0.022  0.143 -0.587 -0.005  0.374]]\n",
      "[[ 0.003  0.     0.11   0.022  0.151 -0.589 -0.005  0.374]]\n",
      "[[ 0.004  0.     0.11   0.022  0.158 -0.59  -0.006  0.374]]\n",
      "[[ 0.005  0.     0.11   0.022  0.164 -0.593 -0.006  0.374]]\n",
      "[[ 0.005  0.     0.11   0.022  0.171 -0.595 -0.007  0.374]]\n",
      "[[ 0.005  0.     0.11   0.022  0.179 -0.596 -0.008  0.374]]\n",
      "[[ 0.005  0.     0.11   0.022  0.186 -0.597 -0.009  0.373]]\n",
      "[[ 0.005  0.     0.11   0.022  0.194 -0.599 -0.009  0.373]]\n",
      "[[ 0.006  0.     0.11   0.022  0.2   -0.6   -0.01   0.372]]\n",
      "[[ 0.006  0.     0.11   0.022  0.208 -0.601 -0.01   0.371]]\n",
      "[[ 0.006  0.     0.11   0.022  0.215 -0.603 -0.01   0.37 ]]\n"
     ]
    },
    {
     "name": "stdout",
     "output_type": "stream",
     "text": [
      "[[ 0.006  0.     0.11   0.022  0.222 -0.605 -0.011  0.37 ]]\n",
      "[[ 0.006  0.     0.11   0.022  0.23  -0.606 -0.011  0.369]]\n",
      "[[ 0.006  0.     0.11   0.022  0.237 -0.608 -0.011  0.368]]\n",
      "[[ 0.006  0.     0.11   0.022  0.245 -0.609 -0.011  0.367]]\n",
      "[[ 0.006  0.     0.11   0.022  0.252 -0.611 -0.012  0.367]]\n",
      "[[ 0.007  0.     0.11   0.022  0.259 -0.611 -0.013  0.366]]\n",
      "[[ 0.007  0.     0.11   0.022  0.266 -0.613 -0.013  0.365]]\n",
      "[[ 0.007  0.     0.11   0.022  0.273 -0.615 -0.013  0.364]]\n",
      "[[ 0.007  0.     0.11   0.022  0.281 -0.616 -0.014  0.364]]\n",
      "[[ 0.007  0.     0.11   0.022  0.288 -0.618 -0.014  0.363]]\n",
      "[[ 0.007  0.     0.11   0.022  0.296 -0.619 -0.014  0.362]]\n",
      "[[ 0.008  0.     0.11   0.022  0.302 -0.621 -0.015  0.362]]\n",
      "[[ 0.008  0.     0.11   0.022  0.31  -0.622 -0.015  0.361]]\n",
      "[[ 0.008  0.     0.11   0.022  0.318 -0.622 -0.016  0.36 ]]\n",
      "[[ 0.008  0.     0.11   0.022  0.325 -0.624 -0.016  0.359]]\n",
      "[[ 0.008  0.     0.11   0.022  0.332 -0.627 -0.016  0.359]]\n",
      "[[ 0.009  0.     0.11   0.022  0.339 -0.627 -0.017  0.358]]\n",
      "[[ 0.009  0.     0.11   0.022  0.346 -0.629 -0.017  0.357]]\n",
      "[[ 0.009  0.     0.11   0.022  0.353 -0.631 -0.017  0.356]]\n",
      "[[ 0.009  0.     0.11   0.022  0.361 -0.632 -0.018  0.356]]\n",
      "[[ 0.009  0.     0.11   0.022  0.368 -0.633 -0.019  0.355]]\n",
      "[[ 0.009  0.     0.11   0.022  0.376 -0.634 -0.019  0.354]]\n",
      "[[ 0.009  0.     0.11   0.022  0.383 -0.636 -0.019  0.353]]\n",
      "[[ 0.01   0.     0.11   0.022  0.39  -0.638 -0.019  0.353]]\n",
      "[[ 0.01   0.     0.11   0.022  0.397 -0.639 -0.02   0.352]]\n",
      "[[ 0.01   0.     0.11   0.022  0.405 -0.64  -0.02   0.351]]\n",
      "[[ 0.01   0.     0.11   0.022  0.412 -0.643 -0.02   0.351]]\n",
      "[[ 0.01   0.     0.11   0.022  0.419 -0.644 -0.021  0.35 ]]\n",
      "[[ 0.011  0.     0.11   0.022  0.426 -0.645 -0.021  0.349]]\n",
      "[[ 0.011  0.     0.11   0.022  0.433 -0.647 -0.021  0.348]]\n",
      "[[ 0.011  0.     0.11   0.022  0.441 -0.648 -0.022  0.348]]\n",
      "[[ 0.011  0.     0.11   0.022  0.448 -0.649 -0.023  0.347]]\n",
      "[[ 0.011  0.     0.11   0.022  0.456 -0.65  -0.023  0.346]]\n",
      "[[ 0.011  0.     0.11   0.022  0.463 -0.652 -0.023  0.345]]\n",
      "[[ 0.011  0.     0.11   0.022  0.47  -0.654 -0.024  0.345]]\n",
      "[[ 0.011  0.     0.11   0.022  0.478 -0.655 -0.024  0.344]]\n",
      "[[ 0.011  0.     0.11   0.022  0.485 -0.657 -0.024  0.343]]\n",
      "[[ 0.012  0.     0.11   0.022  0.491 -0.659 -0.025  0.343]]\n",
      "[[ 0.012  0.     0.11   0.022  0.499 -0.66  -0.025  0.342]]\n",
      "[[ 0.012  0.     0.11   0.022  0.506 -0.661 -0.026  0.341]]\n",
      "[[ 0.012  0.     0.11   0.022  0.514 -0.663 -0.026  0.341]]\n",
      "[[ 0.012  0.     0.11   0.022  0.521 -0.664 -0.026  0.339]]\n",
      "[[ 0.012  0.     0.11   0.022  0.529 -0.665 -0.027  0.339]]\n",
      "[[ 0.012  0.     0.11   0.022  0.536 -0.666 -0.028  0.338]]\n",
      "[[ 0.012  0.     0.11   0.022  0.544 -0.668 -0.028  0.338]]\n",
      "[[ 0.012  0.     0.11   0.022  0.551 -0.669 -0.028  0.336]]\n",
      "[[ 0.013  0.     0.11   0.022  0.558 -0.671 -0.028  0.336]]\n",
      "[[ 0.013  0.     0.11   0.022  0.565 -0.672 -0.029  0.335]]\n",
      "[[ 0.013  0.     0.11   0.022  0.573 -0.673 -0.029  0.334]]\n",
      "[[ 0.014  0.     0.11   0.022  0.579 -0.676 -0.029  0.334]]\n",
      "[[ 0.014  0.     0.11   0.022  0.587 -0.676 -0.03   0.333]]\n",
      "[[ 0.014  0.     0.11   0.022  0.594 -0.678 -0.03   0.332]]\n",
      "[[ 0.014  0.     0.11   0.022  0.601 -0.68  -0.03   0.331]]\n",
      "[[ 0.014  0.     0.11   0.022  0.609 -0.681 -0.031  0.331]]\n",
      "[[ 0.014  0.     0.11   0.022  0.616 -0.682 -0.032  0.33 ]]\n",
      "[[ 0.014  0.     0.11   0.022  0.623 -0.684 -0.032  0.329]]\n",
      "[[ 0.014  0.     0.11   0.022  0.631 -0.685 -0.032  0.328]]\n",
      "[[ 0.015  0.     0.11   0.022  0.637 -0.687 -0.033  0.328]]\n",
      "[[ 0.015  0.     0.11   0.022  0.645 -0.688 -0.033  0.327]]\n",
      "[[ 0.015  0.     0.11   0.022  0.652 -0.69  -0.033  0.326]]\n",
      "[[ 0.015  0.     0.11   0.022  0.659 -0.692 -0.034  0.326]]\n",
      "[[ 0.015  0.     0.11   0.022  0.667 -0.693 -0.034  0.325]]\n",
      "[[ 0.015  0.     0.11   0.022  0.674 -0.695 -0.034  0.324]]\n",
      "[[ 0.015  0.     0.11   0.022  0.682 -0.696 -0.034  0.323]]\n",
      "[[ 0.015  0.     0.11   0.022  0.689 -0.698 -0.035  0.323]]\n",
      "[[ 0.015  0.     0.11   0.022  0.697 -0.698 -0.036  0.322]]\n",
      "[[ 0.015  0.     0.11   0.022  0.704 -0.7   -0.036  0.321]]\n",
      "[[ 0.016  0.     0.11   0.022  0.711 -0.701 -0.036  0.32 ]]\n",
      "[[ 0.016  0.     0.11   0.022  0.718 -0.703 -0.037  0.32 ]]\n",
      "[[ 0.016  0.     0.11   0.022  0.725 -0.705 -0.037  0.319]]\n",
      "[[ 0.016  0.     0.11   0.022  0.733 -0.706 -0.037  0.318]]\n",
      "[[ 0.017  0.     0.11   0.022  0.739 -0.708 -0.038  0.318]]\n",
      "[[ 0.017  0.     0.11   0.022  0.747 -0.709 -0.038  0.317]]\n",
      "[[ 0.017  0.     0.11   0.022  0.754 -0.71  -0.039  0.316]]\n",
      "[[ 0.017  0.     0.11   0.022  0.762 -0.712 -0.039  0.316]]\n",
      "[[ 0.017  0.     0.11   0.022  0.769 -0.714 -0.039  0.315]]\n",
      "[[ 0.017  0.     0.11   0.022  0.777 -0.714 -0.04   0.314]]\n",
      "[[ 0.017  0.     0.11   0.022  0.784 -0.716 -0.04   0.313]]\n",
      "[[ 0.017  0.     0.11   0.022  0.791 -0.717 -0.041  0.312]]\n",
      "[[ 0.017  0.     0.11   0.022  0.799 -0.719 -0.041  0.312]]\n",
      "[[ 0.018  0.     0.11   0.022  0.805 -0.72  -0.042  0.311]]\n",
      "[[ 0.018  0.     0.11   0.022  0.813 -0.721 -0.042  0.31 ]]\n",
      "[[ 0.018  0.     0.11   0.022  0.82  -0.723 -0.042  0.309]]\n",
      "[[ 0.019  0.     0.11   0.022  0.827 -0.725 -0.042  0.309]]\n",
      "[[ 0.019  0.     0.11   0.022  0.834 -0.726 -0.043  0.308]]\n",
      "[[ 0.019  0.     0.11   0.022  0.842 -0.727 -0.043  0.307]]\n",
      "[[ 0.019  0.     0.11   0.022  0.848 -0.73  -0.043  0.306]]\n",
      "[[ 0.019  0.     0.11   0.022  0.856 -0.731 -0.044  0.306]]\n",
      "[[ 0.019  0.     0.11   0.022  0.864 -0.731 -0.045  0.305]]\n",
      "[[ 0.019  0.     0.11   0.022  0.871 -0.733 -0.045  0.304]]\n",
      "[[ 0.019  0.     0.11   0.022  0.878 -0.735 -0.045  0.303]]\n",
      "[[ 0.02   0.     0.11   0.022  0.885 -0.736 -0.046  0.303]]\n",
      "[[ 0.02   0.     0.11   0.022  0.893 -0.737 -0.046  0.302]]\n",
      "[[ 0.02   0.     0.11   0.022  0.9   -0.739 -0.046  0.301]]\n",
      "[[ 0.02   0.     0.11   0.022  0.907 -0.741 -0.047  0.301]]\n",
      "[[ 0.02   0.     0.11   0.022  0.915 -0.742 -0.047  0.3  ]]\n",
      "[[ 0.02   0.     0.11   0.022  0.922 -0.744 -0.047  0.299]]\n",
      "[[ 0.02   0.     0.11   0.022  0.929 -0.745 -0.048  0.298]]\n",
      "[[ 0.02   0.     0.11   0.022  0.937 -0.747 -0.048  0.298]]\n",
      "[[ 0.02   0.     0.11   0.022  0.945 -0.747 -0.049  0.297]]\n",
      "[[ 0.02   0.     0.11   0.022  0.952 -0.749 -0.049  0.296]]\n",
      "[[ 0.021  0.     0.11   0.022  0.958 -0.751 -0.049  0.295]]\n",
      "[[ 0.021  0.     0.11   0.022  0.966 -0.752 -0.05   0.295]]\n",
      "[[ 0.021  0.     0.11   0.022  0.973 -0.754 -0.05   0.294]]\n",
      "[[ 0.021  0.     0.11   0.022  0.981 -0.754 -0.051  0.293]]\n",
      "[[ 0.021  0.     0.11   0.022  0.988 -0.756 -0.051  0.292]]\n",
      "[[ 0.022  0.     0.11   0.022  0.994 -0.759 -0.051  0.292]]\n",
      "[[ 0.022  0.     0.11   0.022  1.002 -0.759 -0.052  0.291]]\n",
      "[[ 0.022  0.     0.11   0.022  1.009 -0.761 -0.052  0.29 ]]\n",
      "[[ 0.022  0.     0.11   0.022  1.016 -0.763 -0.052  0.289]]\n",
      "[[ 0.022  0.     0.11   0.022  1.024 -0.764 -0.053  0.289]]\n",
      "[[ 0.022  0.     0.11   0.022  1.032 -0.765 -0.053  0.288]]\n",
      "[[ 0.022  0.     0.11   0.022  1.039 -0.767 -0.053  0.287]]\n",
      "[[ 0.023  0.     0.11   0.022  1.046 -0.768 -0.054  0.287]]\n",
      "[[ 0.023  0.     0.11   0.022  1.053 -0.769 -0.055  0.286]]\n",
      "[[ 0.023  0.     0.11   0.022  1.061 -0.77  -0.055  0.285]]\n",
      "[[ 0.023  0.     0.11   0.022  1.068 -0.772 -0.055  0.284]]\n",
      "[[ 0.024  0.     0.11   0.022  1.074 -0.774 -0.056  0.284]]\n",
      "[[ 0.024  0.     0.11   0.022  1.082 -0.775 -0.056  0.283]]\n",
      "[[ 0.024  0.     0.11   0.022  1.089 -0.777 -0.056  0.282]]\n",
      "[[ 0.024  0.     0.11   0.022  1.096 -0.779 -0.056  0.281]]\n",
      "[[ 0.024  0.     0.11   0.022  1.104 -0.78  -0.057  0.281]]\n",
      "[[ 0.025  0.     0.11   0.022  1.111 -0.781 -0.057  0.28 ]]\n",
      "[[ 0.025  0.     0.11   0.022  1.118 -0.783 -0.058  0.28 ]]\n",
      "[[ 0.025  0.     0.11   0.022  1.125 -0.784 -0.058  0.278]]\n",
      "[[ 0.025  0.     0.11   0.022  1.133 -0.785 -0.059  0.278]]\n",
      "[[ 0.025  0.     0.11   0.022  1.14  -0.787 -0.059  0.277]]\n",
      "[[ 0.025  0.     0.11   0.022  1.148 -0.788 -0.06   0.277]]\n",
      "[[ 0.025  0.     0.11   0.022  1.155 -0.789 -0.06   0.275]]\n",
      "[[ 0.025  0.     0.11   0.022  1.162 -0.792 -0.06   0.275]]\n",
      "[[ 0.025  0.     0.11   0.022  1.17  -0.793 -0.06   0.274]]\n",
      "[[ 0.026  0.     0.11   0.022  1.176 -0.795 -0.061  0.274]]\n",
      "[[ 0.026  0.     0.11   0.022  1.184 -0.796 -0.061  0.273]]\n",
      "[[ 0.026  0.     0.11   0.022  1.191 -0.797 -0.062  0.272]]\n",
      "[[ 0.026  0.     0.11   0.022  1.199 -0.799 -0.062  0.272]]\n",
      "[[ 0.026  0.     0.11   0.022  1.206 -0.8   -0.062  0.27 ]]\n",
      "[[ 0.026  0.     0.11   0.022  1.214 -0.801 -0.063  0.27 ]]\n",
      "[[ 0.026  0.     0.11   0.022  1.221 -0.803 -0.063  0.269]]\n",
      "[[ 0.026  0.     0.11   0.022  1.228 -0.804 -0.064  0.268]]\n",
      "[[ 0.026  0.     0.11   0.022  1.236 -0.805 -0.064  0.267]]\n",
      "[[ 0.027  0.     0.11   0.022  1.242 -0.808 -0.064  0.267]]\n",
      "[[ 0.027  0.     0.11   0.022  1.25  -0.808 -0.065  0.266]]\n",
      "[[ 0.027  0.     0.11   0.022  1.257 -0.81  -0.065  0.265]]\n",
      "[[ 0.028  0.     0.11   0.022  1.263 -0.813 -0.065  0.265]]\n",
      "[[ 0.028  0.     0.11   0.022  1.271 -0.813 -0.066  0.264]]\n",
      "[[ 0.028  0.     0.11   0.022  1.278 -0.815 -0.066  0.263]]\n",
      "[[ 0.028  0.     0.11   0.022  1.286 -0.816 -0.066  0.262]]\n"
     ]
    },
    {
     "name": "stdout",
     "output_type": "stream",
     "text": [
      "[[ 0.028  0.     0.11   0.022  1.293 -0.818 -0.067  0.262]]\n",
      "[[ 0.028  0.     0.11   0.022  1.301 -0.818 -0.068  0.261]]\n",
      "[[ 0.028  0.     0.11   0.022  1.308 -0.82  -0.068  0.26 ]]\n",
      "[[ 0.028  0.     0.11   0.022  1.316 -0.821 -0.068  0.259]]\n",
      "[[ 0.029  0.     0.11   0.022  1.322 -0.823 -0.069  0.259]]\n",
      "[[ 0.029  0.     0.11   0.022  1.33  -0.824 -0.069  0.258]]\n",
      "[[ 0.029  0.     0.11   0.022  1.337 -0.826 -0.069  0.257]]\n",
      "[[ 0.03   0.     0.11   0.022  1.343 -0.828 -0.07   0.257]]\n",
      "[[ 0.03   0.     0.11   0.022  1.351 -0.829 -0.07   0.256]]\n",
      "[[ 0.03   0.     0.11   0.022  1.358 -0.83  -0.071  0.255]]\n",
      "[[ 0.03   0.     0.11   0.022  1.366 -0.832 -0.071  0.255]]\n",
      "[[ 0.03   0.     0.11   0.022  1.373 -0.834 -0.071  0.254]]\n",
      "[[ 0.03   0.     0.11   0.022  1.381 -0.834 -0.072  0.253]]\n",
      "[[ 0.03   0.     0.11   0.022  1.388 -0.836 -0.072  0.252]]\n",
      "[[ 0.03   0.     0.11   0.022  1.395 -0.838 -0.072  0.251]]\n",
      "[[ 0.03   0.     0.11   0.022  1.403 -0.839 -0.073  0.251]]\n",
      "[[ 0.03   0.     0.11   0.022  1.41  -0.841 -0.073  0.25 ]]\n",
      "[[ 0.03   0.     0.11   0.022  1.418 -0.841 -0.074  0.249]]\n",
      "[[ 0.03   0.     0.11   0.022  1.425 -0.843 -0.074  0.248]]\n",
      "[[ 0.031  0.     0.11   0.022  1.431 -0.846 -0.074  0.248]]\n",
      "[[ 0.031  0.     0.111  0.022  1.437 -0.846 -0.075  0.246]]\n",
      "[[ 0.031  0.     0.111  0.022  1.444 -0.849 -0.075  0.246]]\n",
      "[[ 0.032  0.     0.111  0.022  1.451 -0.849 -0.076  0.245]]\n",
      "[[ 0.032  0.     0.111  0.022  1.459 -0.851 -0.076  0.245]]\n",
      "[[ 0.032  0.     0.111  0.022  1.466 -0.853 -0.076  0.244]]\n",
      "[[ 0.032  0.     0.111  0.022  1.474 -0.853 -0.077  0.243]]\n",
      "[[ 0.032  0.     0.111  0.022  1.481 -0.855 -0.077  0.242]]\n",
      "[[ 3.200e-02 -1.000e-03  1.110e-01  2.200e-02  1.488e+00 -8.560e-01\n",
      "  -7.800e-02  2.420e-01]]\n",
      "[[ 3.200e-02 -1.000e-03  1.110e-01  2.200e-02  1.496e+00 -8.570e-01\n",
      "  -7.800e-02  2.410e-01]]\n",
      "[[ 3.200e-02 -1.000e-03  1.110e-01  2.200e-02  1.503e+00 -8.590e-01\n",
      "  -7.800e-02  2.400e-01]]\n",
      "[[ 3.20e-02 -1.00e-03  1.11e-01  2.20e-02  1.51e+00 -8.61e-01 -7.90e-02\n",
      "   2.40e-01]]\n",
      "[[ 3.200e-02 -1.000e-03  1.110e-01  2.200e-02  1.518e+00 -8.620e-01\n",
      "  -7.900e-02  2.390e-01]]\n",
      "[[ 3.300e-02 -1.000e-03  1.110e-01  2.200e-02  1.525e+00 -8.630e-01\n",
      "  -7.900e-02  2.380e-01]]\n",
      "[[ 3.300e-02 -1.000e-03  1.110e-01  2.200e-02  1.532e+00 -8.660e-01\n",
      "  -7.900e-02  2.380e-01]]\n",
      "[[ 0.033 -0.002  0.112  0.022  1.538 -0.866 -0.08   0.237]]\n",
      "[[ 0.033 -0.002  0.112  0.022  1.545 -0.868 -0.08   0.236]]\n",
      "[[ 0.033 -0.002  0.112  0.022  1.552 -0.869 -0.081  0.235]]\n",
      "[[ 0.033 -0.002  0.112  0.022  1.56  -0.871 -0.081  0.235]]\n",
      "[[ 0.033 -0.003  0.113  0.022  1.566 -0.871 -0.082  0.234]]\n",
      "[[ 0.034 -0.003  0.113  0.022  1.573 -0.872 -0.082  0.233]]\n",
      "[[ 0.034 -0.003  0.113  0.022  1.58  -0.874 -0.082  0.232]]\n",
      "[[ 0.034 -0.003  0.113  0.022  1.587 -0.876 -0.083  0.232]]\n",
      "[[ 0.034 -0.003  0.113  0.022  1.595 -0.877 -0.083  0.231]]\n",
      "[[ 0.034 -0.003  0.113  0.022  1.602 -0.879 -0.083  0.23 ]]\n",
      "[[ 0.035 -0.003  0.113  0.022  1.609 -0.88  -0.084  0.23 ]]\n",
      "[[ 0.035 -0.003  0.113  0.022  1.616 -0.881 -0.084  0.228]]\n",
      "[[ 0.035 -0.003  0.113  0.022  1.623 -0.884 -0.084  0.228]]\n",
      "[[ 0.035 -0.003  0.113  0.022  1.631 -0.885 -0.085  0.228]]\n",
      "[[ 0.036 -0.003  0.113  0.022  1.637 -0.886 -0.085  0.226]]\n",
      "[[ 0.036 -0.003  0.113  0.022  1.644 -0.888 -0.085  0.225]]\n",
      "[[ 0.036 -0.003  0.113  0.022  1.652 -0.889 -0.086  0.225]]\n",
      "[[ 0.036 -0.003  0.113  0.022  1.66  -0.89  -0.086  0.224]]\n",
      "[[ 0.036 -0.003  0.113  0.022  1.667 -0.892 -0.087  0.224]]\n",
      "[[ 0.036 -0.003  0.113  0.022  1.674 -0.893 -0.087  0.222]]\n",
      "[[ 0.036 -0.003  0.113  0.022  1.682 -0.895 -0.087  0.222]]\n",
      "[[ 0.036 -0.003  0.113  0.022  1.689 -0.896 -0.088  0.221]]\n",
      "[[ 0.036 -0.004  0.114  0.022  1.695 -0.897 -0.089  0.221]]\n",
      "[[ 0.036 -0.004  0.114  0.022  1.703 -0.898 -0.089  0.22 ]]\n",
      "[[ 0.036 -0.004  0.114  0.022  1.71  -0.9   -0.089  0.219]]\n",
      "[[ 0.037 -0.004  0.114  0.022  1.716 -0.902 -0.089  0.218]]\n",
      "[[ 0.038 -0.004  0.114  0.022  1.723 -0.904 -0.089  0.218]]\n",
      "[[ 0.038 -0.004  0.114  0.022  1.73  -0.905 -0.09   0.217]]\n",
      "[[ 0.038 -0.004  0.114  0.022  1.738 -0.906 -0.09   0.216]]\n",
      "[[ 0.038 -0.005  0.115  0.022  1.744 -0.907 -0.091  0.216]]\n",
      "[[ 0.038 -0.005  0.115  0.022  1.751 -0.909 -0.091  0.215]]\n",
      "[[ 0.038 -0.005  0.116  0.022  1.757 -0.91  -0.092  0.214]]\n",
      "[[ 0.038 -0.006  0.116  0.022  1.764 -0.911 -0.092  0.213]]\n",
      "[[ 0.038 -0.006  0.116  0.022  1.771 -0.913 -0.092  0.212]]\n",
      "[[ 0.038 -0.006  0.116  0.022  1.779 -0.914 -0.093  0.212]]\n",
      "[[ 0.038 -0.006  0.116  0.022  1.786 -0.916 -0.093  0.211]]\n",
      "[[ 0.038 -0.006  0.116  0.022  1.793 -0.918 -0.093  0.21 ]]\n",
      "[[ 0.039 -0.006  0.116  0.022  1.8   -0.918 -0.094  0.209]]\n",
      "[[ 0.039 -0.006  0.116  0.022  1.808 -0.92  -0.094  0.209]]\n",
      "[[ 0.039 -0.006  0.116  0.022  1.815 -0.922 -0.094  0.208]]\n",
      "[[ 0.039 -0.006  0.116  0.022  1.822 -0.923 -0.095  0.207]]\n",
      "[[ 0.039 -0.006  0.116  0.022  1.83  -0.925 -0.095  0.207]]\n",
      "[[ 0.039 -0.007  0.117  0.022  1.836 -0.925 -0.096  0.206]]\n",
      "[[ 0.039 -0.007  0.117  0.022  1.843 -0.927 -0.096  0.205]]\n",
      "[[ 0.04  -0.007  0.117  0.022  1.849 -0.929 -0.096  0.204]]\n",
      "[[ 0.04  -0.007  0.117  0.022  1.857 -0.93  -0.097  0.204]]\n",
      "[[ 0.04  -0.007  0.117  0.022  1.864 -0.932 -0.097  0.203]]\n",
      "[[ 0.04  -0.007  0.117  0.022  1.872 -0.933 -0.097  0.202]]\n",
      "[[ 0.04  -0.007  0.117  0.022  1.879 -0.934 -0.098  0.201]]\n",
      "[[ 0.04  -0.007  0.117  0.022  1.887 -0.935 -0.099  0.201]]\n",
      "[[ 0.04  -0.007  0.117  0.022  1.894 -0.937 -0.099  0.2  ]]\n",
      "[[ 0.04  -0.007  0.117  0.022  1.901 -0.939 -0.099  0.199]]\n",
      "[[ 0.041 -0.007  0.117  0.022  1.908 -0.94  -0.099  0.198]]\n",
      "[[ 0.041 -0.007  0.117  0.022  1.915 -0.943 -0.099  0.198]]\n",
      "[[ 0.042 -0.007  0.117  0.022  1.922 -0.943 -0.1    0.197]]\n",
      "[[ 0.042 -0.007  0.117  0.022  1.929 -0.945 -0.1    0.196]]\n",
      "[[ 0.042 -0.008  0.118  0.022  1.935 -0.946 -0.101  0.196]]\n",
      "[[ 0.042 -0.008  0.118  0.022  1.942 -0.948 -0.101  0.195]]\n",
      "[[ 0.042 -0.008  0.118  0.022  1.95  -0.948 -0.102  0.194]]\n",
      "[[ 0.042 -0.008  0.118  0.022  1.957 -0.95  -0.102  0.193]]\n",
      "[[ 0.042 -0.008  0.118  0.022  1.965 -0.951 -0.102  0.192]]\n",
      "[[ 0.042 -0.008  0.118  0.022  1.972 -0.953 -0.103  0.192]]\n",
      "[[ 0.042 -0.008  0.118  0.022  1.98  -0.954 -0.103  0.191]]\n",
      "[[ 0.042 -0.008  0.118  0.022  1.987 -0.955 -0.104  0.19 ]]\n",
      "[[ 0.043 -0.01   0.119  0.022  1.992 -0.956 -0.104  0.19 ]]\n",
      "[[ 0.043 -0.01   0.119  0.022  2.    -0.957 -0.104  0.189]]\n",
      "[[ 0.043 -0.01   0.12   0.022  2.005 -0.959 -0.105  0.188]]\n",
      "[[ 0.043 -0.011  0.12   0.022  2.013 -0.96  -0.105  0.188]]\n",
      "[[ 0.043 -0.011  0.12   0.022  2.02  -0.962 -0.105  0.187]]\n",
      "[[ 0.043 -0.011  0.12   0.022  2.023 -0.963 -0.105  0.187]]\n",
      "[[ 0.043 -0.011  0.12   0.022  2.023 -0.963 -0.105  0.187]]\n",
      "[[ 0.043 -0.011  0.12   0.022  2.023 -0.963 -0.105  0.187]]\n",
      "[[ 0.043 -0.011  0.12   0.022  2.023 -0.963 -0.105  0.187]]\n",
      "[[ 0.043 -0.011  0.12   0.022  2.023 -0.963 -0.105  0.187]]\n",
      "[[ 0.043 -0.011  0.12   0.022  2.023 -0.963 -0.105  0.187]]\n",
      "[[ 0.043 -0.011  0.12   0.022  2.023 -0.963 -0.105  0.187]]\n",
      "[[ 0.043 -0.011  0.12   0.022  2.023 -0.963 -0.105  0.187]]\n",
      "[[ 0.043 -0.011  0.12   0.022  2.023 -0.963 -0.105  0.187]]\n",
      "[[ 0.043 -0.011  0.12   0.022  2.023 -0.963 -0.105  0.187]]\n",
      "[[ 0.043 -0.011  0.12   0.022  2.023 -0.963 -0.105  0.187]]\n",
      "[[ 0.043 -0.011  0.12   0.022  2.023 -0.963 -0.105  0.187]]\n",
      "[[ 0.043 -0.011  0.12   0.022  2.023 -0.963 -0.105  0.187]]\n",
      "[[ 0.043 -0.011  0.12   0.022  2.023 -0.963 -0.105  0.187]]\n",
      "[[ 0.043 -0.011  0.12   0.022  2.023 -0.963 -0.105  0.187]]\n",
      "[[ 0.043 -0.011  0.12   0.022  2.023 -0.963 -0.105  0.187]]\n",
      "[[ 0.043 -0.011  0.12   0.022  2.023 -0.963 -0.105  0.187]]\n",
      "[[ 0.043 -0.011  0.12   0.022  2.023 -0.963 -0.105  0.187]]\n",
      "[[ 0.043 -0.011  0.12   0.022  2.023 -0.963 -0.105  0.187]]\n",
      "[[ 0.043 -0.011  0.12   0.022  2.023 -0.963 -0.105  0.187]]\n",
      "[[ 0.043 -0.011  0.12   0.022  2.023 -0.963 -0.105  0.187]]\n",
      "[[ 0.043 -0.011  0.12   0.022  2.023 -0.963 -0.105  0.187]]\n",
      "[[ 0.043 -0.011  0.12   0.022  2.023 -0.963 -0.105  0.187]]\n",
      "[[ 0.043 -0.011  0.12   0.022  2.023 -0.963 -0.105  0.187]]\n",
      "[[ 0.043 -0.011  0.12   0.022  2.023 -0.963 -0.105  0.187]]\n",
      "[[ 0.043 -0.011  0.12   0.022  2.023 -0.963 -0.105  0.187]]\n",
      "[[ 0.043 -0.011  0.12   0.022  2.023 -0.963 -0.105  0.187]]\n",
      "[[ 0.043 -0.011  0.12   0.022  2.023 -0.963 -0.105  0.187]]\n",
      "[[ 0.043 -0.011  0.12   0.022  2.023 -0.963 -0.105  0.187]]\n",
      "[[ 0.043 -0.011  0.12   0.022  2.023 -0.963 -0.105  0.187]]\n",
      "[[ 0.043 -0.011  0.12   0.022  2.023 -0.963 -0.105  0.187]]\n",
      "[[ 0.043 -0.011  0.12   0.022  2.023 -0.963 -0.105  0.187]]\n",
      "[[ 0.043 -0.011  0.12   0.022  2.023 -0.963 -0.105  0.187]]\n",
      "[[ 0.043 -0.011  0.12   0.022  2.023 -0.963 -0.105  0.187]]\n",
      "[[ 0.043 -0.011  0.12   0.022  2.023 -0.963 -0.105  0.187]]\n",
      "[[ 0.043 -0.011  0.12   0.022  2.023 -0.963 -0.105  0.187]]\n",
      "[[ 0.043 -0.011  0.12   0.022  2.023 -0.963 -0.105  0.187]]\n",
      "[[ 0.043 -0.011  0.12   0.022  2.023 -0.963 -0.105  0.187]]\n",
      "[[ 0.043 -0.011  0.12   0.022  2.023 -0.963 -0.105  0.187]]\n",
      "[[ 0.043 -0.011  0.12   0.022  2.023 -0.963 -0.105  0.187]]\n",
      "[[ 0.043 -0.011  0.12   0.022  2.023 -0.963 -0.105  0.187]]\n",
      "[[ 0.043 -0.011  0.12   0.022  2.023 -0.963 -0.105  0.187]]\n",
      "[[ 0.043 -0.011  0.12   0.022  2.023 -0.963 -0.105  0.187]]\n",
      "[[ 0.043 -0.011  0.12   0.022  2.023 -0.963 -0.105  0.187]]\n",
      "[[ 0.043 -0.011  0.12   0.022  2.023 -0.963 -0.105  0.187]]\n"
     ]
    },
    {
     "name": "stdout",
     "output_type": "stream",
     "text": [
      "[[ 0.043 -0.011  0.12   0.022  2.023 -0.963 -0.105  0.187]]\n",
      "[[ 0.043 -0.011  0.12   0.022  2.023 -0.963 -0.105  0.187]]\n",
      "[[ 0.043 -0.011  0.12   0.022  2.023 -0.963 -0.105  0.187]]\n",
      "[[ 0.043 -0.011  0.12   0.022  2.023 -0.963 -0.105  0.187]]\n",
      "[[ 0.043 -0.011  0.12   0.022  2.023 -0.963 -0.105  0.187]]\n",
      "[[ 0.043 -0.011  0.12   0.022  2.023 -0.963 -0.105  0.187]]\n",
      "[[ 0.043 -0.011  0.12   0.022  2.023 -0.963 -0.105  0.187]]\n",
      "[[ 0.043 -0.011  0.12   0.022  2.023 -0.963 -0.105  0.187]]\n",
      "[[ 0.043 -0.011  0.12   0.022  2.023 -0.963 -0.105  0.187]]\n",
      "[[ 0.043 -0.011  0.12   0.022  2.023 -0.963 -0.105  0.187]]\n",
      "[[ 0.043 -0.011  0.12   0.022  2.023 -0.963 -0.105  0.187]]\n",
      "[[ 0.043 -0.011  0.12   0.022  2.023 -0.963 -0.105  0.187]]\n",
      "[[ 0.043 -0.011  0.12   0.022  2.023 -0.963 -0.105  0.187]]\n",
      "[[ 0.043 -0.011  0.12   0.022  2.023 -0.963 -0.105  0.187]]\n",
      "[[ 0.043 -0.011  0.12   0.022  2.023 -0.963 -0.105  0.187]]\n",
      "[[ 0.043 -0.011  0.12   0.022  2.023 -0.963 -0.105  0.187]]\n",
      "[[ 0.043 -0.011  0.12   0.022  2.023 -0.963 -0.105  0.187]]\n",
      "[[ 0.043 -0.011  0.12   0.022  2.023 -0.963 -0.105  0.187]]\n",
      "[[ 0.043 -0.011  0.12   0.022  2.023 -0.963 -0.105  0.187]]\n",
      "[[ 0.043 -0.011  0.12   0.022  2.023 -0.963 -0.105  0.187]]\n",
      "[[ 0.043 -0.011  0.12   0.022  2.023 -0.963 -0.105  0.187]]\n",
      "[[ 0.043 -0.011  0.12   0.022  2.023 -0.963 -0.105  0.187]]\n",
      "[[ 0.043 -0.011  0.12   0.022  2.023 -0.963 -0.105  0.187]]\n",
      "[[ 0.043 -0.011  0.12   0.022  2.023 -0.963 -0.105  0.187]]\n",
      "[[ 0.043 -0.011  0.12   0.022  2.023 -0.963 -0.105  0.187]]\n",
      "[[ 0.043 -0.011  0.12   0.022  2.023 -0.963 -0.105  0.187]]\n",
      "[[ 0.043 -0.011  0.12   0.022  2.023 -0.963 -0.105  0.187]]\n",
      "[[ 0.043 -0.011  0.12   0.022  2.023 -0.963 -0.105  0.187]]\n",
      "[[ 0.043 -0.011  0.12   0.022  2.023 -0.963 -0.105  0.187]]\n",
      "[[ 0.043 -0.011  0.12   0.022  2.023 -0.963 -0.105  0.187]]\n",
      "[[ 0.043 -0.011  0.12   0.022  2.023 -0.963 -0.105  0.187]]\n",
      "[[ 0.043 -0.011  0.12   0.022  2.023 -0.963 -0.105  0.187]]\n",
      "[[ 0.043 -0.011  0.12   0.022  2.023 -0.963 -0.105  0.187]]\n",
      "[[ 0.043 -0.011  0.12   0.022  2.023 -0.963 -0.105  0.187]]\n",
      "[[ 0.043 -0.011  0.12   0.022  2.023 -0.963 -0.105  0.187]]\n",
      "[[ 0.043 -0.011  0.12   0.022  2.023 -0.963 -0.105  0.187]]\n",
      "[[ 0.043 -0.011  0.12   0.022  2.023 -0.963 -0.105  0.187]]\n",
      "[[ 0.043 -0.011  0.12   0.022  2.023 -0.963 -0.105  0.187]]\n",
      "[[ 0.043 -0.011  0.12   0.022  2.023 -0.963 -0.105  0.187]]\n",
      "[[ 0.043 -0.011  0.12   0.022  2.023 -0.963 -0.105  0.187]]\n",
      "[[ 0.043 -0.011  0.12   0.022  2.023 -0.963 -0.105  0.187]]\n",
      "[[ 0.043 -0.011  0.12   0.022  2.023 -0.963 -0.105  0.187]]\n",
      "[[ 0.043 -0.011  0.12   0.022  2.023 -0.963 -0.105  0.187]]\n",
      "[[ 0.043 -0.011  0.12   0.022  2.023 -0.963 -0.105  0.187]]\n",
      "[[ 0.043 -0.011  0.12   0.022  2.023 -0.963 -0.105  0.187]]\n",
      "[[ 0.043 -0.011  0.12   0.022  2.023 -0.963 -0.105  0.187]]\n",
      "[[ 0.043 -0.011  0.12   0.022  2.023 -0.963 -0.105  0.187]]\n",
      "[[ 0.043 -0.011  0.12   0.022  2.023 -0.963 -0.105  0.187]]\n",
      "[[ 0.043 -0.011  0.12   0.022  2.023 -0.963 -0.105  0.187]]\n",
      "[[ 0.043 -0.011  0.12   0.022  2.023 -0.963 -0.105  0.187]]\n",
      "[[ 0.043 -0.011  0.12   0.022  2.023 -0.963 -0.105  0.187]]\n",
      "[[ 0.043 -0.011  0.12   0.022  2.023 -0.963 -0.105  0.187]]\n",
      "[[ 0.043 -0.011  0.12   0.022  2.023 -0.963 -0.105  0.187]]\n",
      "[[ 0.043 -0.011  0.12   0.022  2.023 -0.963 -0.105  0.187]]\n",
      "[[ 0.043 -0.011  0.12   0.022  2.023 -0.963 -0.105  0.187]]\n",
      "[[ 0.043 -0.011  0.12   0.022  2.023 -0.963 -0.105  0.187]]\n",
      "[[ 0.043 -0.011  0.12   0.022  2.023 -0.963 -0.105  0.187]]\n",
      "[[ 0.043 -0.011  0.12   0.022  2.023 -0.963 -0.105  0.187]]\n",
      "[[ 0.043 -0.011  0.12   0.022  2.023 -0.963 -0.105  0.187]]\n",
      "[[ 0.043 -0.011  0.12   0.022  2.023 -0.963 -0.105  0.187]]\n",
      "[[ 0.043 -0.011  0.12   0.022  2.023 -0.963 -0.105  0.187]]\n"
     ]
    },
    {
     "data": {
      "text/plain": [
       "array([[ 0.   ,  0.   ,  0.   , ...,  0.   ,  0.   ,  0.   ],\n",
       "       [ 0.   ,  0.   ,  0.   , ...,  0.   ,  0.   ,  0.   ],\n",
       "       [ 0.   ,  0.   ,  0.   , ...,  0.   ,  0.   ,  0.   ],\n",
       "       ...,\n",
       "       [ 0.043, -0.011,  0.12 , ..., -0.963, -0.105,  0.187],\n",
       "       [ 0.044, -0.011,  0.12 , ..., -0.963, -0.105,  0.187],\n",
       "       [ 0.043, -0.011,  0.12 , ..., -0.963, -0.105,  0.187]])"
      ]
     },
     "execution_count": 33,
     "metadata": {},
     "output_type": "execute_result"
    }
   ],
   "source": [
    "stageWise(xs,ys,0.001,5000)"
   ]
  },
  {
   "cell_type": "code",
   "execution_count": null,
   "metadata": {},
   "outputs": [],
   "source": []
  }
 ],
 "metadata": {
  "kernelspec": {
   "display_name": "Python 3",
   "language": "python",
   "name": "python3"
  },
  "language_info": {
   "codemirror_mode": {
    "name": "ipython",
    "version": 3
   },
   "file_extension": ".py",
   "mimetype": "text/x-python",
   "name": "python",
   "nbconvert_exporter": "python",
   "pygments_lexer": "ipython3",
   "version": "3.5.2"
  }
 },
 "nbformat": 4,
 "nbformat_minor": 2
}
