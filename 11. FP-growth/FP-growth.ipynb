{
 "cells": [
  {
   "cell_type": "code",
   "execution_count": 1,
   "metadata": {},
   "outputs": [
    {
     "name": "stderr",
     "output_type": "stream",
     "text": [
      "/usr/lib/python3.5/importlib/_bootstrap.py:222: RuntimeWarning: numpy.dtype size changed, may indicate binary incompatibility. Expected 96, got 88\n",
      "  return f(*args, **kwds)\n",
      "/usr/lib/python3.5/importlib/_bootstrap.py:222: RuntimeWarning: numpy.dtype size changed, may indicate binary incompatibility. Expected 96, got 88\n",
      "  return f(*args, **kwds)\n"
     ]
    }
   ],
   "source": [
    "import numpy as np\n",
    "import pandas as pd\n",
    "import matplotlib\n",
    "import matplotlib.pyplot as plt\n",
    "from mpl_toolkits.mplot3d import Axes3D\n",
    "%matplotlib inline"
   ]
  },
  {
   "cell_type": "markdown",
   "metadata": {},
   "source": [
    "# FP-growth \n",
    "上一章提到Apriori利用frequent itemsets和关联法则来观察数据里一些有趣的东西，这一章讲的FP-growth算法是一种分治算法，只关注frequent itemsets，但大大的提高了速度，简单来说，FP-growth算法由两步所构成\n",
    "1. 建立FP树\n",
    "2. 从FP树挖掘frequent itemsets\n",
    "\n",
    "FP树的nodes之间代表关联性，nodes也会在同一棵树重复出现，建立FP树的流程如下\n",
    "1. 计算个别item的频次(support)从大到小排序，个别node代表<item:count>\n",
    "2. 用排序好的记录构成前缀树T，当树只剩下一个分支的时候，生成频率模式(header table)\n",
    "3. 用BFS的方式遍历，对每个item生成条件header table\n",
    "4. 重复1-3  \n",
    "\n",
    "可参考https://zhuanlan.zhihu.com/p/50339839\n",
    "\n",
    "### 优缺点\n",
    "\n",
    "优点：比Apriori还快\n",
    "缺点：较难复现、特定数据会使得速度变慢\n",
    "\n",
    "\n",
    "接下来我们定义FP树的数据结构"
   ]
  },
  {
   "cell_type": "code",
   "execution_count": 6,
   "metadata": {},
   "outputs": [],
   "source": [
    "class treeNode:\n",
    "    def __init__(self, nameValue, numOccur, parentNode):\n",
    "        self.name = nameValue\n",
    "        self.count = numOccur\n",
    "        self.nodeLink = None\n",
    "        self.parent = parentNode      #needs to be updated\n",
    "        self.children = {} \n",
    "    \n",
    "    def increment(self, numOccur):\n",
    "        self.count += numOccur\n",
    "        \n",
    "    def display(self, ind=1):\n",
    "        print('  '*ind, self.name, ' ', self.count)\n",
    "        for child in self.children.values():\n",
    "            child.display(ind+1)"
   ]
  },
  {
   "cell_type": "code",
   "execution_count": 8,
   "metadata": {},
   "outputs": [
    {
     "name": "stdout",
     "output_type": "stream",
     "text": [
      "   pyramid   9\n",
      "     eye   13\n",
      "     phoenix   3\n"
     ]
    }
   ],
   "source": [
    "rootNode=treeNode('pyramid',9,None)\n",
    "rootNode.children['eye']=treeNode('eye',13,None)\n",
    "rootNode.children['phoenix']=treeNode('phoenix',3,None)\n",
    "rootNode.display()"
   ]
  },
  {
   "cell_type": "markdown",
   "metadata": {},
   "source": [
    "接下来介绍如何建立FP-tree"
   ]
  },
  {
   "cell_type": "code",
   "execution_count": 17,
   "metadata": {},
   "outputs": [
    {
     "data": {
      "text/plain": [
       "{frozenset({'z'}): 1,\n",
       " frozenset({'p', 'q', 'r', 't', 'x', 'y', 'z'}): 1,\n",
       " frozenset({'h', 'j', 'p', 'r', 'z'}): 1,\n",
       " frozenset({'e', 'm', 'q', 's', 't', 'x', 'y', 'z'}): 1,\n",
       " frozenset({'n', 'o', 'r', 's', 'x'}): 1,\n",
       " frozenset({'s', 't', 'u', 'v', 'w', 'x', 'y', 'z'}): 1}"
      ]
     },
     "execution_count": 17,
     "metadata": {},
     "output_type": "execute_result"
    }
   ],
   "source": [
    "def createTree(dataSet, minSup=1): #create FP-tree from dataset but don't mine\n",
    "    headerTable = {}\n",
    "    #go over dataSet twice\n",
    "    for trans in dataSet:#first pass counts frequency of occurance\n",
    "        for item in trans:\n",
    "            headerTable[item] = headerTable.get(item, 0) + dataSet[trans]\n",
    "    ks=list(headerTable.keys()).copy()\n",
    "    for k in ks:  #remove items not meeting minSup\n",
    "        if headerTable[k] < minSup: \n",
    "            del(headerTable[k])\n",
    "    freqItemSet = set(headerTable.keys())\n",
    "    #print 'freqItemSet: ',freqItemSet\n",
    "    if len(freqItemSet) == 0: return None, None  #if no items meet min support -->get out\n",
    "    for k in headerTable:\n",
    "        headerTable[k] = [headerTable[k], None] #reformat headerTable to use Node link \n",
    "    #print 'headerTable: ',headerTable\n",
    "    retTree = treeNode('Null Set', 1, None) #create tree\n",
    "    for tranSet, count in dataSet.items():  #go through dataset 2nd time\n",
    "        localD = {}\n",
    "        for item in tranSet:  #put transaction items in order\n",
    "            if item in freqItemSet:\n",
    "                localD[item] = headerTable[item][0]\n",
    "        if len(localD) > 0:\n",
    "            orderedItems = [v[0] for v in sorted(localD.items(), key=lambda p: p[1], reverse=True)]\n",
    "            updateTree(orderedItems, retTree, headerTable, count)#populate tree with ordered freq itemset\n",
    "    return retTree, headerTable #return tree and header table\n",
    "\n",
    "def updateTree(items, inTree, headerTable, count):\n",
    "    if items[0] in inTree.children:#check if orderedItems[0] in retTree.children\n",
    "        inTree.children[items[0]].increment(count) #incrament count\n",
    "    else:   #add items[0] to inTree.children\n",
    "        inTree.children[items[0]] = treeNode(items[0], count, inTree)\n",
    "        if headerTable[items[0]][1] == None: #update header table \n",
    "            headerTable[items[0]][1] = inTree.children[items[0]]\n",
    "        else:\n",
    "            updateHeader(headerTable[items[0]][1], inTree.children[items[0]])\n",
    "    if len(items) > 1:#call updateTree() with remaining ordered items\n",
    "        updateTree(items[1::], inTree.children[items[0]], headerTable, count)\n",
    "        \n",
    "def updateHeader(nodeToTest, targetNode):   #this version does not use recursion\n",
    "    while (nodeToTest.nodeLink != None):    #Do not use recursion to traverse a linked list!\n",
    "        nodeToTest = nodeToTest.nodeLink\n",
    "    nodeToTest.nodeLink = targetNode\n",
    "\n",
    "def loadSimpDat():\n",
    "    simpDat = [['r', 'z', 'h', 'j', 'p'],\n",
    "               ['z', 'y', 'x', 'w', 'v', 'u', 't', 's'],\n",
    "               ['z'],\n",
    "               ['r', 'x', 'n', 'o', 's'],\n",
    "               ['y', 'r', 'x', 'z', 'q', 't', 'p'],\n",
    "               ['y', 'z', 'x', 'e', 'q', 's', 't', 'm']]\n",
    "    return simpDat\n",
    "\n",
    "def createInitSet(dataSet):\n",
    "    retDict = {}\n",
    "    for trans in dataSet:\n",
    "        retDict[frozenset(trans)] = 1\n",
    "    return retDict\n",
    "\n",
    "simpleData=loadSimpDat()\n",
    "initSet=createInitSet(simpleData)\n",
    "initSet"
   ]
  },
  {
   "cell_type": "code",
   "execution_count": 44,
   "metadata": {
    "scrolled": true
   },
   "outputs": [
    {
     "name": "stdout",
     "output_type": "stream",
     "text": [
      "   Null Set   1\n",
      "     z   5\n",
      "       x   3\n",
      "         t   2\n",
      "           y   2\n",
      "             s   2\n",
      "         y   1\n",
      "           t   1\n",
      "             r   1\n",
      "       r   1\n",
      "     x   1\n",
      "       r   1\n",
      "         s   1\n",
      "3\n"
     ]
    },
    {
     "data": {
      "text/plain": [
       "[('y', [3, <__main__.treeNode at 0x7f1e55349d30>]),\n",
       " ('s', [3, <__main__.treeNode at 0x7f1e55349e80>]),\n",
       " ('t', [3, <__main__.treeNode at 0x7f1e55349d68>]),\n",
       " ('r', [3, <__main__.treeNode at 0x7f1e55349da0>]),\n",
       " ('x', [4, <__main__.treeNode at 0x7f1e55349cf8>]),\n",
       " ('z', [5, <__main__.treeNode at 0x7f1e55349cc0>])]"
      ]
     },
     "execution_count": 44,
     "metadata": {},
     "output_type": "execute_result"
    }
   ],
   "source": [
    "FPTree, header=createTree(initSet,3)\n",
    "FPTree.display()\n",
    "print(header['x'][1].count)\n",
    "sorted(header.items(), key=lambda p: p[1][0])"
   ]
  },
  {
   "cell_type": "markdown",
   "metadata": {},
   "source": [
    "接下来，从建立好的FPTree来建立条件header table"
   ]
  },
  {
   "cell_type": "code",
   "execution_count": 22,
   "metadata": {},
   "outputs": [
    {
     "data": {
      "text/plain": [
       "({frozenset({'z'}): 3},\n",
       " {},\n",
       " {frozenset({'x'}): 1,\n",
       "  frozenset({'z'}): 1,\n",
       "  frozenset({'t', 'x', 'y', 'z'}): 1})"
      ]
     },
     "execution_count": 22,
     "metadata": {},
     "output_type": "execute_result"
    }
   ],
   "source": [
    "def ascendTree(leafNode, prefixPath): #ascends from leaf node to root\n",
    "    if leafNode.parent != None:\n",
    "        prefixPath.append(leafNode.name)\n",
    "        ascendTree(leafNode.parent, prefixPath)\n",
    "    \n",
    "def findPrefixPath(basePat, treeNode): #treeNode comes from header table\n",
    "    condPats = {}\n",
    "    while treeNode != None:\n",
    "        prefixPath = []\n",
    "        ascendTree(treeNode, prefixPath)\n",
    "        if len(prefixPath) > 1: \n",
    "            condPats[frozenset(prefixPath[1:])] = treeNode.count\n",
    "        treeNode = treeNode.nodeLink\n",
    "    return condPats\n",
    "\n",
    "findPrefixPath('x', header['x'][1]), findPrefixPath('z', header['z'][1]), findPrefixPath('r', header['r'][1])"
   ]
  },
  {
   "cell_type": "code",
   "execution_count": 47,
   "metadata": {},
   "outputs": [
    {
     "name": "stdout",
     "output_type": "stream",
     "text": [
      "conditional tree for:  {'y'}\n",
      "   Null Set   1\n",
      "     z   3\n",
      "       x   3\n",
      "conditional tree for:  {'x', 'y'}\n",
      "   Null Set   1\n",
      "     z   3\n",
      "conditional tree for:  {'s'}\n",
      "   Null Set   1\n",
      "     x   3\n",
      "conditional tree for:  {'t'}\n",
      "   Null Set   1\n",
      "     z   3\n",
      "       x   3\n",
      "conditional tree for:  {'x', 't'}\n",
      "   Null Set   1\n",
      "     z   3\n",
      "conditional tree for:  {'x'}\n",
      "   Null Set   1\n",
      "     z   3\n"
     ]
    }
   ],
   "source": [
    "def mineTree(inTree, headerTable, minSup, preFix, freqItemList):\n",
    "    bigL = [v[0] for v in sorted(headerTable.items(), key=lambda p: p[1][0])]#(sort header table)\n",
    "    for basePat in bigL:  #start from bottom of header table\n",
    "        newFreqSet = preFix.copy()\n",
    "        newFreqSet.add(basePat)\n",
    "        #print 'finalFrequent Item: ',newFreqSet    #append to set\n",
    "        freqItemList.append(newFreqSet)\n",
    "        condPattBases = findPrefixPath(basePat, headerTable[basePat][1])\n",
    "        #print 'condPattBases :',basePat, condPattBases\n",
    "        #2. construct cond FP-tree from cond. pattern base\n",
    "        myCondTree, myHead = createTree(condPattBases, minSup)\n",
    "        #print 'head from conditional tree: ', myHead\n",
    "        if myHead != None: #3. mine cond. FP-tree\n",
    "            print('conditional tree for: ',newFreqSet)\n",
    "            myCondTree.display(1)            \n",
    "            mineTree(myCondTree, myHead, minSup, newFreqSet, freqItemList)\n",
    "\n",
    "freqItems=[]\n",
    "mineTree(FPTree,header,3,set([]),freqItems)"
   ]
  },
  {
   "cell_type": "code",
   "execution_count": 48,
   "metadata": {},
   "outputs": [
    {
     "data": {
      "text/plain": [
       "[{'y'},\n",
       " {'y', 'z'},\n",
       " {'x', 'y'},\n",
       " {'x', 'y', 'z'},\n",
       " {'s'},\n",
       " {'s', 'x'},\n",
       " {'t'},\n",
       " {'t', 'z'},\n",
       " {'t', 'x'},\n",
       " {'t', 'x', 'z'},\n",
       " {'r'},\n",
       " {'x'},\n",
       " {'x', 'z'},\n",
       " {'z'}]"
      ]
     },
     "execution_count": 48,
     "metadata": {},
     "output_type": "execute_result"
    }
   ],
   "source": [
    "freqItems"
   ]
  },
  {
   "cell_type": "markdown",
   "metadata": {},
   "source": [
    "接下来这个数据有100万个例子，可能会跑比较久，每一行代表词向量，找出同时频繁出现的字词组合"
   ]
  },
  {
   "cell_type": "code",
   "execution_count": 59,
   "metadata": {},
   "outputs": [
    {
     "name": "stdout",
     "output_type": "stream",
     "text": [
      "conditional tree for:  {'1'}\n",
      "   Null Set   1\n",
      "     6   107404\n",
      "conditional tree for:  {'3'}\n",
      "   Null Set   1\n",
      "     11   9718\n",
      "     6   186289\n",
      "       11   117401\n",
      "conditional tree for:  {'11', '3'}\n",
      "   Null Set   1\n",
      "     6   117401\n",
      "conditional tree for:  {'11'}\n",
      "   Null Set   1\n",
      "     6   261773\n"
     ]
    },
    {
     "data": {
      "text/plain": [
       "54"
      ]
     },
     "execution_count": 59,
     "metadata": {},
     "output_type": "execute_result"
    }
   ],
   "source": [
    "parsedData=[line.split() for line in open('./datasets/kosarak.dat').readlines()]\n",
    "initSet=createInitSet(parsedData)\n",
    "fpTree, header=createTree(initSet,10000)\n",
    "freqList=[]\n",
    "mineTree(fpTree,header,100000,set([]),freqList)\n",
    "len(freqList)"
   ]
  },
  {
   "cell_type": "code",
   "execution_count": 60,
   "metadata": {},
   "outputs": [
    {
     "data": {
      "text/plain": [
       "[{'28'},\n",
       " {'423'},\n",
       " {'378'},\n",
       " {'32'},\n",
       " {'14'},\n",
       " {'155'},\n",
       " {'364'},\n",
       " {'49'},\n",
       " {'25'},\n",
       " {'512'},\n",
       " {'504'},\n",
       " {'73'},\n",
       " {'314'},\n",
       " {'897'},\n",
       " {'56'},\n",
       " {'273'},\n",
       " {'737'},\n",
       " {'269'},\n",
       " {'490'},\n",
       " {'987'},\n",
       " {'135'},\n",
       " {'278'},\n",
       " {'87'},\n",
       " {'438'},\n",
       " {'215'},\n",
       " {'303'},\n",
       " {'69'},\n",
       " {'446'},\n",
       " {'205'},\n",
       " {'90'},\n",
       " {'136'},\n",
       " {'294'},\n",
       " {'40'},\n",
       " {'316'},\n",
       " {'138'},\n",
       " {'83'},\n",
       " {'2'},\n",
       " {'77'},\n",
       " {'64'},\n",
       " {'55'},\n",
       " {'4'},\n",
       " {'27'},\n",
       " {'148'},\n",
       " {'7'},\n",
       " {'218'},\n",
       " {'1'},\n",
       " {'1', '6'},\n",
       " {'3'},\n",
       " {'11', '3'},\n",
       " {'11', '3', '6'},\n",
       " {'3', '6'},\n",
       " {'11'},\n",
       " {'11', '6'},\n",
       " {'6'}]"
      ]
     },
     "execution_count": 60,
     "metadata": {},
     "output_type": "execute_result"
    }
   ],
   "source": [
    "freqList"
   ]
  }
 ],
 "metadata": {
  "kernelspec": {
   "display_name": "Python 3",
   "language": "python",
   "name": "python3"
  },
  "language_info": {
   "codemirror_mode": {
    "name": "ipython",
    "version": 3
   },
   "file_extension": ".py",
   "mimetype": "text/x-python",
   "name": "python",
   "nbconvert_exporter": "python",
   "pygments_lexer": "ipython3",
   "version": "3.5.2"
  }
 },
 "nbformat": 4,
 "nbformat_minor": 2
}
